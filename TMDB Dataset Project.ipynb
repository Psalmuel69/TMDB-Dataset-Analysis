{
 "cells": [
  {
   "cell_type": "markdown",
   "id": "db1b1f6c",
   "metadata": {},
   "source": [
    "   # TMDB DATASET PROJECT"
   ]
  },
  {
   "cell_type": "markdown",
   "id": "ac1ae810",
   "metadata": {},
   "source": [
    "## Dataset description\n",
    "\n",
    "For this project, we will be working with the TMDb movie dataset which contains about 10,000 collection of movies information from The Movie Database(TMDb) and was downloaded from kaggle website https://www.kaggle.com/tmdb/tmdb-movie-metadata. Some key information we will be looking at from our dataset include movie popularity rating, the budget allocated and spent for each movie, the revenue generated from movies sales, director of the movies and the major casts, what movies genres each movie belongs to, the companies who produced each movies, their release dates etc. Also, from observations, its been noticed that Certain columns, like ‘cast’ and ‘genres’, contain multiple values separated by pipe (|) characters, as well as some odd characters in the ‘cast’ column."
   ]
  },
  {
   "cell_type": "markdown",
   "id": "685bdf2f",
   "metadata": {},
   "source": [
    "### Questions for our data Analysis\n",
    "\n",
    "Following our investigations on this dataset, we would be looking at getting answers to certain questions like;\n",
    "\n",
    "What are the most popular movies?\n",
    "\n",
    "What genres of movies have the highest popularity rating?\n",
    "\n",
    "What movies/genres of movies generated the highest revenue?\n",
    "\n",
    "What movies/genres of movies have the highest production budget? and more..."
   ]
  },
  {
   "cell_type": "code",
   "execution_count": 5,
   "id": "042de562",
   "metadata": {},
   "outputs": [],
   "source": [
    "# Use this cell to set up import statements for all of the packages that you\n",
    "#   plan to use.\n",
    "\n",
    "# Remember to include a 'magic word' so that your visualizations are plotted\n",
    "#   inline with the notebook. See this page for more:\n",
    "#   http://ipython.readthedocs.io/en/stable/interactive/magics.html\n",
    "import pandas as pd\n",
    "import numpy as np\n",
    "import seaborn as sns\n",
    "import matplotlib\n",
    "import matplotlib.pyplot as plt\n",
    "%matplotlib inline"
   ]
  },
  {
   "cell_type": "markdown",
   "id": "84d04dbe",
   "metadata": {},
   "source": [
    "# Data wrangling"
   ]
  },
  {
   "cell_type": "markdown",
   "id": "c4eaaf0f",
   "metadata": {},
   "source": [
    "Following the DAP, our dataset has to be prepared and cleaned before it can be analyzed. In this section, we will do the following;\n",
    "\n",
    "Load the dataset into a data frame using Pandas\n",
    "Explore the number of rows & columns, ranges of values etc.\n",
    "Handle missing, incorrect and duplicate data\n",
    "Perform any additional steps (creating additional columns etc.)"
   ]
  },
  {
   "cell_type": "markdown",
   "id": "8f7bc983",
   "metadata": {},
   "source": [
    "First we load our data and print out a few lines to see what our data looks like,\n",
    "then we perform operations to inspect data\n",
    "types and look for instances of missing or possibly errant data."
   ]
  },
  {
   "cell_type": "code",
   "execution_count": 6,
   "id": "e52715a1",
   "metadata": {},
   "outputs": [
    {
     "data": {
      "text/html": [
       "<div>\n",
       "<style scoped>\n",
       "    .dataframe tbody tr th:only-of-type {\n",
       "        vertical-align: middle;\n",
       "    }\n",
       "\n",
       "    .dataframe tbody tr th {\n",
       "        vertical-align: top;\n",
       "    }\n",
       "\n",
       "    .dataframe thead th {\n",
       "        text-align: right;\n",
       "    }\n",
       "</style>\n",
       "<table border=\"1\" class=\"dataframe\">\n",
       "  <thead>\n",
       "    <tr style=\"text-align: right;\">\n",
       "      <th></th>\n",
       "      <th>id</th>\n",
       "      <th>imdb_id</th>\n",
       "      <th>popularity</th>\n",
       "      <th>budget</th>\n",
       "      <th>revenue</th>\n",
       "      <th>original_title</th>\n",
       "      <th>cast</th>\n",
       "      <th>homepage</th>\n",
       "      <th>director</th>\n",
       "      <th>tagline</th>\n",
       "      <th>...</th>\n",
       "      <th>overview</th>\n",
       "      <th>runtime</th>\n",
       "      <th>genres</th>\n",
       "      <th>production_companies</th>\n",
       "      <th>release_date</th>\n",
       "      <th>vote_count</th>\n",
       "      <th>vote_average</th>\n",
       "      <th>release_year</th>\n",
       "      <th>budget_adj</th>\n",
       "      <th>revenue_adj</th>\n",
       "    </tr>\n",
       "  </thead>\n",
       "  <tbody>\n",
       "    <tr>\n",
       "      <th>0</th>\n",
       "      <td>135397</td>\n",
       "      <td>tt0369610</td>\n",
       "      <td>32.985763</td>\n",
       "      <td>150000000</td>\n",
       "      <td>1513528810</td>\n",
       "      <td>Jurassic World</td>\n",
       "      <td>Chris Pratt|Bryce Dallas Howard|Irrfan Khan|Vi...</td>\n",
       "      <td>http://www.jurassicworld.com/</td>\n",
       "      <td>Colin Trevorrow</td>\n",
       "      <td>The park is open.</td>\n",
       "      <td>...</td>\n",
       "      <td>Twenty-two years after the events of Jurassic ...</td>\n",
       "      <td>124</td>\n",
       "      <td>Action|Adventure|Science Fiction|Thriller</td>\n",
       "      <td>Universal Studios|Amblin Entertainment|Legenda...</td>\n",
       "      <td>6/9/15</td>\n",
       "      <td>5562</td>\n",
       "      <td>6.5</td>\n",
       "      <td>2015</td>\n",
       "      <td>1.379999e+08</td>\n",
       "      <td>1.392446e+09</td>\n",
       "    </tr>\n",
       "    <tr>\n",
       "      <th>1</th>\n",
       "      <td>76341</td>\n",
       "      <td>tt1392190</td>\n",
       "      <td>28.419936</td>\n",
       "      <td>150000000</td>\n",
       "      <td>378436354</td>\n",
       "      <td>Mad Max: Fury Road</td>\n",
       "      <td>Tom Hardy|Charlize Theron|Hugh Keays-Byrne|Nic...</td>\n",
       "      <td>http://www.madmaxmovie.com/</td>\n",
       "      <td>George Miller</td>\n",
       "      <td>What a Lovely Day.</td>\n",
       "      <td>...</td>\n",
       "      <td>An apocalyptic story set in the furthest reach...</td>\n",
       "      <td>120</td>\n",
       "      <td>Action|Adventure|Science Fiction|Thriller</td>\n",
       "      <td>Village Roadshow Pictures|Kennedy Miller Produ...</td>\n",
       "      <td>5/13/15</td>\n",
       "      <td>6185</td>\n",
       "      <td>7.1</td>\n",
       "      <td>2015</td>\n",
       "      <td>1.379999e+08</td>\n",
       "      <td>3.481613e+08</td>\n",
       "    </tr>\n",
       "    <tr>\n",
       "      <th>2</th>\n",
       "      <td>262500</td>\n",
       "      <td>tt2908446</td>\n",
       "      <td>13.112507</td>\n",
       "      <td>110000000</td>\n",
       "      <td>295238201</td>\n",
       "      <td>Insurgent</td>\n",
       "      <td>Shailene Woodley|Theo James|Kate Winslet|Ansel...</td>\n",
       "      <td>http://www.thedivergentseries.movie/#insurgent</td>\n",
       "      <td>Robert Schwentke</td>\n",
       "      <td>One Choice Can Destroy You</td>\n",
       "      <td>...</td>\n",
       "      <td>Beatrice Prior must confront her inner demons ...</td>\n",
       "      <td>119</td>\n",
       "      <td>Adventure|Science Fiction|Thriller</td>\n",
       "      <td>Summit Entertainment|Mandeville Films|Red Wago...</td>\n",
       "      <td>3/18/15</td>\n",
       "      <td>2480</td>\n",
       "      <td>6.3</td>\n",
       "      <td>2015</td>\n",
       "      <td>1.012000e+08</td>\n",
       "      <td>2.716190e+08</td>\n",
       "    </tr>\n",
       "    <tr>\n",
       "      <th>3</th>\n",
       "      <td>140607</td>\n",
       "      <td>tt2488496</td>\n",
       "      <td>11.173104</td>\n",
       "      <td>200000000</td>\n",
       "      <td>2068178225</td>\n",
       "      <td>Star Wars: The Force Awakens</td>\n",
       "      <td>Harrison Ford|Mark Hamill|Carrie Fisher|Adam D...</td>\n",
       "      <td>http://www.starwars.com/films/star-wars-episod...</td>\n",
       "      <td>J.J. Abrams</td>\n",
       "      <td>Every generation has a story.</td>\n",
       "      <td>...</td>\n",
       "      <td>Thirty years after defeating the Galactic Empi...</td>\n",
       "      <td>136</td>\n",
       "      <td>Action|Adventure|Science Fiction|Fantasy</td>\n",
       "      <td>Lucasfilm|Truenorth Productions|Bad Robot</td>\n",
       "      <td>12/15/15</td>\n",
       "      <td>5292</td>\n",
       "      <td>7.5</td>\n",
       "      <td>2015</td>\n",
       "      <td>1.839999e+08</td>\n",
       "      <td>1.902723e+09</td>\n",
       "    </tr>\n",
       "    <tr>\n",
       "      <th>4</th>\n",
       "      <td>168259</td>\n",
       "      <td>tt2820852</td>\n",
       "      <td>9.335014</td>\n",
       "      <td>190000000</td>\n",
       "      <td>1506249360</td>\n",
       "      <td>Furious 7</td>\n",
       "      <td>Vin Diesel|Paul Walker|Jason Statham|Michelle ...</td>\n",
       "      <td>http://www.furious7.com/</td>\n",
       "      <td>James Wan</td>\n",
       "      <td>Vengeance Hits Home</td>\n",
       "      <td>...</td>\n",
       "      <td>Deckard Shaw seeks revenge against Dominic Tor...</td>\n",
       "      <td>137</td>\n",
       "      <td>Action|Crime|Thriller</td>\n",
       "      <td>Universal Pictures|Original Film|Media Rights ...</td>\n",
       "      <td>4/1/15</td>\n",
       "      <td>2947</td>\n",
       "      <td>7.3</td>\n",
       "      <td>2015</td>\n",
       "      <td>1.747999e+08</td>\n",
       "      <td>1.385749e+09</td>\n",
       "    </tr>\n",
       "  </tbody>\n",
       "</table>\n",
       "<p>5 rows × 21 columns</p>\n",
       "</div>"
      ],
      "text/plain": [
       "       id    imdb_id  popularity     budget     revenue  \\\n",
       "0  135397  tt0369610   32.985763  150000000  1513528810   \n",
       "1   76341  tt1392190   28.419936  150000000   378436354   \n",
       "2  262500  tt2908446   13.112507  110000000   295238201   \n",
       "3  140607  tt2488496   11.173104  200000000  2068178225   \n",
       "4  168259  tt2820852    9.335014  190000000  1506249360   \n",
       "\n",
       "                 original_title  \\\n",
       "0                Jurassic World   \n",
       "1            Mad Max: Fury Road   \n",
       "2                     Insurgent   \n",
       "3  Star Wars: The Force Awakens   \n",
       "4                     Furious 7   \n",
       "\n",
       "                                                cast  \\\n",
       "0  Chris Pratt|Bryce Dallas Howard|Irrfan Khan|Vi...   \n",
       "1  Tom Hardy|Charlize Theron|Hugh Keays-Byrne|Nic...   \n",
       "2  Shailene Woodley|Theo James|Kate Winslet|Ansel...   \n",
       "3  Harrison Ford|Mark Hamill|Carrie Fisher|Adam D...   \n",
       "4  Vin Diesel|Paul Walker|Jason Statham|Michelle ...   \n",
       "\n",
       "                                            homepage          director  \\\n",
       "0                      http://www.jurassicworld.com/   Colin Trevorrow   \n",
       "1                        http://www.madmaxmovie.com/     George Miller   \n",
       "2     http://www.thedivergentseries.movie/#insurgent  Robert Schwentke   \n",
       "3  http://www.starwars.com/films/star-wars-episod...       J.J. Abrams   \n",
       "4                           http://www.furious7.com/         James Wan   \n",
       "\n",
       "                         tagline  ...  \\\n",
       "0              The park is open.  ...   \n",
       "1             What a Lovely Day.  ...   \n",
       "2     One Choice Can Destroy You  ...   \n",
       "3  Every generation has a story.  ...   \n",
       "4            Vengeance Hits Home  ...   \n",
       "\n",
       "                                            overview runtime  \\\n",
       "0  Twenty-two years after the events of Jurassic ...     124   \n",
       "1  An apocalyptic story set in the furthest reach...     120   \n",
       "2  Beatrice Prior must confront her inner demons ...     119   \n",
       "3  Thirty years after defeating the Galactic Empi...     136   \n",
       "4  Deckard Shaw seeks revenge against Dominic Tor...     137   \n",
       "\n",
       "                                      genres  \\\n",
       "0  Action|Adventure|Science Fiction|Thriller   \n",
       "1  Action|Adventure|Science Fiction|Thriller   \n",
       "2         Adventure|Science Fiction|Thriller   \n",
       "3   Action|Adventure|Science Fiction|Fantasy   \n",
       "4                      Action|Crime|Thriller   \n",
       "\n",
       "                                production_companies release_date vote_count  \\\n",
       "0  Universal Studios|Amblin Entertainment|Legenda...       6/9/15       5562   \n",
       "1  Village Roadshow Pictures|Kennedy Miller Produ...      5/13/15       6185   \n",
       "2  Summit Entertainment|Mandeville Films|Red Wago...      3/18/15       2480   \n",
       "3          Lucasfilm|Truenorth Productions|Bad Robot     12/15/15       5292   \n",
       "4  Universal Pictures|Original Film|Media Rights ...       4/1/15       2947   \n",
       "\n",
       "   vote_average  release_year    budget_adj   revenue_adj  \n",
       "0           6.5          2015  1.379999e+08  1.392446e+09  \n",
       "1           7.1          2015  1.379999e+08  3.481613e+08  \n",
       "2           6.3          2015  1.012000e+08  2.716190e+08  \n",
       "3           7.5          2015  1.839999e+08  1.902723e+09  \n",
       "4           7.3          2015  1.747999e+08  1.385749e+09  \n",
       "\n",
       "[5 rows x 21 columns]"
      ]
     },
     "execution_count": 6,
     "metadata": {},
     "output_type": "execute_result"
    }
   ],
   "source": [
    "# first we load our data and print out a few lines to see what our data looks like,\n",
    "#then we perform operations to inspect data\n",
    "#types and look for instances of missing or possibly errant data.\n",
    "df = pd.read_csv(\"tmdb-movies.csv\")\n",
    "df.head()"
   ]
  },
  {
   "cell_type": "markdown",
   "id": "bc6f874f",
   "metadata": {},
   "source": [
    "Next we check for the shape of our dataframe"
   ]
  },
  {
   "cell_type": "code",
   "execution_count": 3,
   "id": "d7a6bd01",
   "metadata": {},
   "outputs": [
    {
     "data": {
      "text/plain": [
       "(10866, 21)"
      ]
     },
     "execution_count": 3,
     "metadata": {},
     "output_type": "execute_result"
    }
   ],
   "source": [
    "#checking for the shape of our datasets\n",
    "df.shape"
   ]
  },
  {
   "cell_type": "markdown",
   "id": "d9db6af7",
   "metadata": {},
   "source": [
    "From this, we can see that our TMDb dataset is made of up 10866 rows and 21 columns."
   ]
  },
  {
   "cell_type": "code",
   "execution_count": 4,
   "id": "c9547f86",
   "metadata": {},
   "outputs": [
    {
     "data": {
      "text/plain": [
       "id                        int64\n",
       "imdb_id                  object\n",
       "popularity              float64\n",
       "budget                    int64\n",
       "revenue                   int64\n",
       "original_title           object\n",
       "cast                     object\n",
       "homepage                 object\n",
       "director                 object\n",
       "tagline                  object\n",
       "keywords                 object\n",
       "overview                 object\n",
       "runtime                   int64\n",
       "genres                   object\n",
       "production_companies     object\n",
       "release_date             object\n",
       "vote_count                int64\n",
       "vote_average            float64\n",
       "release_year              int64\n",
       "budget_adj              float64\n",
       "revenue_adj             float64\n",
       "dtype: object"
      ]
     },
     "execution_count": 4,
     "metadata": {},
     "output_type": "execute_result"
    }
   ],
   "source": [
    "#Check data type for the columns\n",
    "df.dtypes"
   ]
  },
  {
   "cell_type": "markdown",
   "id": "d1e00415",
   "metadata": {},
   "source": [
    "Here, we try to understand the datatypes in our dataset, so to be able to help us understand if there are wrong data tpyes and that would need to be changed."
   ]
  },
  {
   "cell_type": "code",
   "execution_count": 5,
   "id": "429c14dc",
   "metadata": {
    "scrolled": false
   },
   "outputs": [
    {
     "name": "stdout",
     "output_type": "stream",
     "text": [
      "<class 'pandas.core.frame.DataFrame'>\n",
      "RangeIndex: 10866 entries, 0 to 10865\n",
      "Data columns (total 21 columns):\n",
      " #   Column                Non-Null Count  Dtype  \n",
      "---  ------                --------------  -----  \n",
      " 0   id                    10866 non-null  int64  \n",
      " 1   imdb_id               10856 non-null  object \n",
      " 2   popularity            10866 non-null  float64\n",
      " 3   budget                10866 non-null  int64  \n",
      " 4   revenue               10866 non-null  int64  \n",
      " 5   original_title        10866 non-null  object \n",
      " 6   cast                  10790 non-null  object \n",
      " 7   homepage              2936 non-null   object \n",
      " 8   director              10822 non-null  object \n",
      " 9   tagline               8042 non-null   object \n",
      " 10  keywords              9373 non-null   object \n",
      " 11  overview              10862 non-null  object \n",
      " 12  runtime               10866 non-null  int64  \n",
      " 13  genres                10843 non-null  object \n",
      " 14  production_companies  9836 non-null   object \n",
      " 15  release_date          10866 non-null  object \n",
      " 16  vote_count            10866 non-null  int64  \n",
      " 17  vote_average          10866 non-null  float64\n",
      " 18  release_year          10866 non-null  int64  \n",
      " 19  budget_adj            10866 non-null  float64\n",
      " 20  revenue_adj           10866 non-null  float64\n",
      "dtypes: float64(4), int64(6), object(11)\n",
      "memory usage: 1.7+ MB\n"
     ]
    }
   ],
   "source": [
    "#check information of our dataset\n",
    "df.info()"
   ]
  },
  {
   "cell_type": "markdown",
   "id": "be1163bf",
   "metadata": {},
   "source": [
    "From this information, we can see that our dataset has 3 data types of int, \"object\", and float.\n",
    "\n",
    "With data type \"object\" having the highest number of columns with object data type - 11, and integers having 6 columns with its data type, followed by float with 6 columns."
   ]
  },
  {
   "cell_type": "code",
   "execution_count": 6,
   "id": "4136e99b",
   "metadata": {
    "scrolled": true
   },
   "outputs": [
    {
     "data": {
      "text/plain": [
       "Index(['id', 'imdb_id', 'popularity', 'budget', 'revenue', 'original_title',\n",
       "       'cast', 'homepage', 'director', 'tagline', 'keywords', 'overview',\n",
       "       'runtime', 'genres', 'production_companies', 'release_date',\n",
       "       'vote_count', 'vote_average', 'release_year', 'budget_adj',\n",
       "       'revenue_adj'],\n",
       "      dtype='object')"
      ]
     },
     "execution_count": 6,
     "metadata": {},
     "output_type": "execute_result"
    }
   ],
   "source": [
    "#check for information of the columns in the dataet, to know what they entail\n",
    "df.columns"
   ]
  },
  {
   "cell_type": "markdown",
   "id": "31b67554",
   "metadata": {},
   "source": [
    "Recall that when we checked for the shape of our dataset using df.shape, we discovered that our dataset contained 21 columns, as well as 10866 rows. Sequel to that, let's look at a brief description of what each and every of our column mean\n",
    "\n",
    "id: the unique id of movie records in the dataset.\n",
    "\n",
    "imdb_id: the unique imdb id for each movie on TMDB.\n",
    "\n",
    "popularity: the rating used to determine how popular each movie is.\n",
    "\n",
    "budget: total budget of the movie in USD.\n",
    "\n",
    "revenue: Total revenue of the movie in USD.\n",
    "\n",
    "original_title: Original title of the movie.\n",
    "\n",
    "cast: Names of the cast of the movie separated by \"|\" for more than one persons namelisted.\n",
    "\n",
    "homepage: the website homepage of the movie.\n",
    "\n",
    "director: states the name of the movie director, and is separated by \"|\" for more than one namelisted directors.\n",
    "\n",
    "tagline: word tags to used to describe the movie.\n",
    "\n",
    "keywords: Keywords are words used to identify a particular movie.\n",
    "\n",
    "overview: tells us a summary of the movie.\n",
    "\n",
    "runtime: the total runtime of the movie in minutes.\n",
    "\n",
    "genres: states the different genres for which the movies fall into and is separated by \"|\".\n",
    "\n",
    "production_companies:detals us about what movie production company produced each movie\n",
    "\n",
    "release_date: dates for which each movie was released.\n",
    "\n",
    "vote_count: number of votes racked in from users/viewers for each paticular movie on TMDb\n",
    "\n",
    "vote_average: the average user rating of the movie\n",
    "\n",
    "release_year: year for which each movie was released.\n",
    "\n",
    "budget_adj: the total budget of the moviein USD in terms of 2010 dollars, accounting for inflation over time.\n",
    "\n",
    "revenue_adj: the total budget of the movie in USD in terms of 2010 dollars, accounting for inflation over time.\n",
    "\n",
    "Not all the columns are revelant to the questions we seek to answer. We will proceed select a subset of columns with the relevant data for our analysis."
   ]
  },
  {
   "cell_type": "code",
   "execution_count": 7,
   "id": "549ee482",
   "metadata": {
    "scrolled": true
   },
   "outputs": [
    {
     "data": {
      "text/html": [
       "<div>\n",
       "<style scoped>\n",
       "    .dataframe tbody tr th:only-of-type {\n",
       "        vertical-align: middle;\n",
       "    }\n",
       "\n",
       "    .dataframe tbody tr th {\n",
       "        vertical-align: top;\n",
       "    }\n",
       "\n",
       "    .dataframe thead th {\n",
       "        text-align: right;\n",
       "    }\n",
       "</style>\n",
       "<table border=\"1\" class=\"dataframe\">\n",
       "  <thead>\n",
       "    <tr style=\"text-align: right;\">\n",
       "      <th></th>\n",
       "      <th>id</th>\n",
       "      <th>popularity</th>\n",
       "      <th>budget</th>\n",
       "      <th>revenue</th>\n",
       "      <th>runtime</th>\n",
       "      <th>vote_count</th>\n",
       "      <th>vote_average</th>\n",
       "      <th>release_year</th>\n",
       "      <th>budget_adj</th>\n",
       "      <th>revenue_adj</th>\n",
       "    </tr>\n",
       "  </thead>\n",
       "  <tbody>\n",
       "    <tr>\n",
       "      <th>count</th>\n",
       "      <td>10866.000000</td>\n",
       "      <td>10866.000000</td>\n",
       "      <td>1.086600e+04</td>\n",
       "      <td>1.086600e+04</td>\n",
       "      <td>10866.000000</td>\n",
       "      <td>10866.000000</td>\n",
       "      <td>10866.000000</td>\n",
       "      <td>10866.000000</td>\n",
       "      <td>1.086600e+04</td>\n",
       "      <td>1.086600e+04</td>\n",
       "    </tr>\n",
       "    <tr>\n",
       "      <th>mean</th>\n",
       "      <td>66064.177434</td>\n",
       "      <td>0.646441</td>\n",
       "      <td>1.462570e+07</td>\n",
       "      <td>3.982332e+07</td>\n",
       "      <td>102.070863</td>\n",
       "      <td>217.389748</td>\n",
       "      <td>5.974922</td>\n",
       "      <td>2001.322658</td>\n",
       "      <td>1.755104e+07</td>\n",
       "      <td>5.136436e+07</td>\n",
       "    </tr>\n",
       "    <tr>\n",
       "      <th>std</th>\n",
       "      <td>92130.136561</td>\n",
       "      <td>1.000185</td>\n",
       "      <td>3.091321e+07</td>\n",
       "      <td>1.170035e+08</td>\n",
       "      <td>31.381405</td>\n",
       "      <td>575.619058</td>\n",
       "      <td>0.935142</td>\n",
       "      <td>12.812941</td>\n",
       "      <td>3.430616e+07</td>\n",
       "      <td>1.446325e+08</td>\n",
       "    </tr>\n",
       "    <tr>\n",
       "      <th>min</th>\n",
       "      <td>5.000000</td>\n",
       "      <td>0.000065</td>\n",
       "      <td>0.000000e+00</td>\n",
       "      <td>0.000000e+00</td>\n",
       "      <td>0.000000</td>\n",
       "      <td>10.000000</td>\n",
       "      <td>1.500000</td>\n",
       "      <td>1960.000000</td>\n",
       "      <td>0.000000e+00</td>\n",
       "      <td>0.000000e+00</td>\n",
       "    </tr>\n",
       "    <tr>\n",
       "      <th>25%</th>\n",
       "      <td>10596.250000</td>\n",
       "      <td>0.207583</td>\n",
       "      <td>0.000000e+00</td>\n",
       "      <td>0.000000e+00</td>\n",
       "      <td>90.000000</td>\n",
       "      <td>17.000000</td>\n",
       "      <td>5.400000</td>\n",
       "      <td>1995.000000</td>\n",
       "      <td>0.000000e+00</td>\n",
       "      <td>0.000000e+00</td>\n",
       "    </tr>\n",
       "    <tr>\n",
       "      <th>50%</th>\n",
       "      <td>20669.000000</td>\n",
       "      <td>0.383856</td>\n",
       "      <td>0.000000e+00</td>\n",
       "      <td>0.000000e+00</td>\n",
       "      <td>99.000000</td>\n",
       "      <td>38.000000</td>\n",
       "      <td>6.000000</td>\n",
       "      <td>2006.000000</td>\n",
       "      <td>0.000000e+00</td>\n",
       "      <td>0.000000e+00</td>\n",
       "    </tr>\n",
       "    <tr>\n",
       "      <th>75%</th>\n",
       "      <td>75610.000000</td>\n",
       "      <td>0.713817</td>\n",
       "      <td>1.500000e+07</td>\n",
       "      <td>2.400000e+07</td>\n",
       "      <td>111.000000</td>\n",
       "      <td>145.750000</td>\n",
       "      <td>6.600000</td>\n",
       "      <td>2011.000000</td>\n",
       "      <td>2.085325e+07</td>\n",
       "      <td>3.369710e+07</td>\n",
       "    </tr>\n",
       "    <tr>\n",
       "      <th>max</th>\n",
       "      <td>417859.000000</td>\n",
       "      <td>32.985763</td>\n",
       "      <td>4.250000e+08</td>\n",
       "      <td>2.781506e+09</td>\n",
       "      <td>900.000000</td>\n",
       "      <td>9767.000000</td>\n",
       "      <td>9.200000</td>\n",
       "      <td>2015.000000</td>\n",
       "      <td>4.250000e+08</td>\n",
       "      <td>2.827124e+09</td>\n",
       "    </tr>\n",
       "  </tbody>\n",
       "</table>\n",
       "</div>"
      ],
      "text/plain": [
       "                  id    popularity        budget       revenue       runtime  \\\n",
       "count   10866.000000  10866.000000  1.086600e+04  1.086600e+04  10866.000000   \n",
       "mean    66064.177434      0.646441  1.462570e+07  3.982332e+07    102.070863   \n",
       "std     92130.136561      1.000185  3.091321e+07  1.170035e+08     31.381405   \n",
       "min         5.000000      0.000065  0.000000e+00  0.000000e+00      0.000000   \n",
       "25%     10596.250000      0.207583  0.000000e+00  0.000000e+00     90.000000   \n",
       "50%     20669.000000      0.383856  0.000000e+00  0.000000e+00     99.000000   \n",
       "75%     75610.000000      0.713817  1.500000e+07  2.400000e+07    111.000000   \n",
       "max    417859.000000     32.985763  4.250000e+08  2.781506e+09    900.000000   \n",
       "\n",
       "         vote_count  vote_average  release_year    budget_adj   revenue_adj  \n",
       "count  10866.000000  10866.000000  10866.000000  1.086600e+04  1.086600e+04  \n",
       "mean     217.389748      5.974922   2001.322658  1.755104e+07  5.136436e+07  \n",
       "std      575.619058      0.935142     12.812941  3.430616e+07  1.446325e+08  \n",
       "min       10.000000      1.500000   1960.000000  0.000000e+00  0.000000e+00  \n",
       "25%       17.000000      5.400000   1995.000000  0.000000e+00  0.000000e+00  \n",
       "50%       38.000000      6.000000   2006.000000  0.000000e+00  0.000000e+00  \n",
       "75%      145.750000      6.600000   2011.000000  2.085325e+07  3.369710e+07  \n",
       "max     9767.000000      9.200000   2015.000000  4.250000e+08  2.827124e+09  "
      ]
     },
     "execution_count": 7,
     "metadata": {},
     "output_type": "execute_result"
    }
   ],
   "source": [
    "#lets have a better description of our dataset\n",
    "df.describe()"
   ]
  },
  {
   "cell_type": "markdown",
   "id": "2c77637b",
   "metadata": {},
   "source": [
    "From this information, we can see the minimum and maximum values for our data, Such as;\n",
    "\n",
    "popularity rating having 32 as the highest and 0 as the lowest\n",
    "\n",
    "longest movie runtime being 900 minutes\n",
    "\n",
    "highest and lowest vote count at 9767 and 10 respectively etc\n",
    "\n",
    "highest&lowest budget on a movie as well as the movie with the largest revenue generation and loss.\n",
    "\n",
    "Also, we are able to see the mean, standard deviation and percentages for the integer/float columns in our dataset"
   ]
  },
  {
   "cell_type": "markdown",
   "id": "f58448a5",
   "metadata": {},
   "source": [
    "# Data Cleaning"
   ]
  },
  {
   "cell_type": "markdown",
   "id": "6f059bac",
   "metadata": {},
   "source": [
    "In this next step we will be cleaning our data to rid them off certain problems like missing values, duplicate values and more."
   ]
  },
  {
   "cell_type": "code",
   "execution_count": 25,
   "id": "95cae7f1",
   "metadata": {},
   "outputs": [],
   "source": [
    "#next we would be dropping some columns which will not be needed for the basis of our analysis\n",
    "df.drop(['id', 'imdb_id', 'cast','director', 'homepage', 'tagline', 'keywords', 'production_companies', 'overview',], axis = 1, inplace = True)"
   ]
  },
  {
   "cell_type": "markdown",
   "id": "8dceb62a",
   "metadata": {},
   "source": [
    "Here we have been able to figure out some columns that we wont be needing for the course of our analysis, and hence in that regards, we would have to drop them"
   ]
  },
  {
   "cell_type": "markdown",
   "id": "37ac1d94",
   "metadata": {},
   "source": [
    "In the next step below, we would be checking if our dropped columns have been effected"
   ]
  },
  {
   "cell_type": "code",
   "execution_count": 26,
   "id": "e7828585",
   "metadata": {
    "scrolled": true
   },
   "outputs": [
    {
     "data": {
      "text/html": [
       "<div>\n",
       "<style scoped>\n",
       "    .dataframe tbody tr th:only-of-type {\n",
       "        vertical-align: middle;\n",
       "    }\n",
       "\n",
       "    .dataframe tbody tr th {\n",
       "        vertical-align: top;\n",
       "    }\n",
       "\n",
       "    .dataframe thead th {\n",
       "        text-align: right;\n",
       "    }\n",
       "</style>\n",
       "<table border=\"1\" class=\"dataframe\">\n",
       "  <thead>\n",
       "    <tr style=\"text-align: right;\">\n",
       "      <th></th>\n",
       "      <th>popularity</th>\n",
       "      <th>budget</th>\n",
       "      <th>revenue</th>\n",
       "      <th>original_title</th>\n",
       "      <th>runtime</th>\n",
       "      <th>genres</th>\n",
       "      <th>release_date</th>\n",
       "      <th>vote_count</th>\n",
       "      <th>vote_average</th>\n",
       "      <th>release_year</th>\n",
       "      <th>budget_adj</th>\n",
       "      <th>revenue_adj</th>\n",
       "    </tr>\n",
       "  </thead>\n",
       "  <tbody>\n",
       "    <tr>\n",
       "      <th>0</th>\n",
       "      <td>32.985763</td>\n",
       "      <td>150000000</td>\n",
       "      <td>1513528810</td>\n",
       "      <td>Jurassic World</td>\n",
       "      <td>124</td>\n",
       "      <td>Action|Adventure|Science Fiction|Thriller</td>\n",
       "      <td>6/9/15</td>\n",
       "      <td>5562</td>\n",
       "      <td>6.5</td>\n",
       "      <td>2015</td>\n",
       "      <td>1.379999e+08</td>\n",
       "      <td>1.392446e+09</td>\n",
       "    </tr>\n",
       "    <tr>\n",
       "      <th>1</th>\n",
       "      <td>28.419936</td>\n",
       "      <td>150000000</td>\n",
       "      <td>378436354</td>\n",
       "      <td>Mad Max: Fury Road</td>\n",
       "      <td>120</td>\n",
       "      <td>Action|Adventure|Science Fiction|Thriller</td>\n",
       "      <td>5/13/15</td>\n",
       "      <td>6185</td>\n",
       "      <td>7.1</td>\n",
       "      <td>2015</td>\n",
       "      <td>1.379999e+08</td>\n",
       "      <td>3.481613e+08</td>\n",
       "    </tr>\n",
       "    <tr>\n",
       "      <th>2</th>\n",
       "      <td>13.112507</td>\n",
       "      <td>110000000</td>\n",
       "      <td>295238201</td>\n",
       "      <td>Insurgent</td>\n",
       "      <td>119</td>\n",
       "      <td>Adventure|Science Fiction|Thriller</td>\n",
       "      <td>3/18/15</td>\n",
       "      <td>2480</td>\n",
       "      <td>6.3</td>\n",
       "      <td>2015</td>\n",
       "      <td>1.012000e+08</td>\n",
       "      <td>2.716190e+08</td>\n",
       "    </tr>\n",
       "    <tr>\n",
       "      <th>3</th>\n",
       "      <td>11.173104</td>\n",
       "      <td>200000000</td>\n",
       "      <td>2068178225</td>\n",
       "      <td>Star Wars: The Force Awakens</td>\n",
       "      <td>136</td>\n",
       "      <td>Action|Adventure|Science Fiction|Fantasy</td>\n",
       "      <td>12/15/15</td>\n",
       "      <td>5292</td>\n",
       "      <td>7.5</td>\n",
       "      <td>2015</td>\n",
       "      <td>1.839999e+08</td>\n",
       "      <td>1.902723e+09</td>\n",
       "    </tr>\n",
       "    <tr>\n",
       "      <th>4</th>\n",
       "      <td>9.335014</td>\n",
       "      <td>190000000</td>\n",
       "      <td>1506249360</td>\n",
       "      <td>Furious 7</td>\n",
       "      <td>137</td>\n",
       "      <td>Action|Crime|Thriller</td>\n",
       "      <td>4/1/15</td>\n",
       "      <td>2947</td>\n",
       "      <td>7.3</td>\n",
       "      <td>2015</td>\n",
       "      <td>1.747999e+08</td>\n",
       "      <td>1.385749e+09</td>\n",
       "    </tr>\n",
       "  </tbody>\n",
       "</table>\n",
       "</div>"
      ],
      "text/plain": [
       "   popularity     budget     revenue                original_title  runtime  \\\n",
       "0   32.985763  150000000  1513528810                Jurassic World      124   \n",
       "1   28.419936  150000000   378436354            Mad Max: Fury Road      120   \n",
       "2   13.112507  110000000   295238201                     Insurgent      119   \n",
       "3   11.173104  200000000  2068178225  Star Wars: The Force Awakens      136   \n",
       "4    9.335014  190000000  1506249360                     Furious 7      137   \n",
       "\n",
       "                                      genres release_date  vote_count  \\\n",
       "0  Action|Adventure|Science Fiction|Thriller       6/9/15        5562   \n",
       "1  Action|Adventure|Science Fiction|Thriller      5/13/15        6185   \n",
       "2         Adventure|Science Fiction|Thriller      3/18/15        2480   \n",
       "3   Action|Adventure|Science Fiction|Fantasy     12/15/15        5292   \n",
       "4                      Action|Crime|Thriller       4/1/15        2947   \n",
       "\n",
       "   vote_average  release_year    budget_adj   revenue_adj  \n",
       "0           6.5          2015  1.379999e+08  1.392446e+09  \n",
       "1           7.1          2015  1.379999e+08  3.481613e+08  \n",
       "2           6.3          2015  1.012000e+08  2.716190e+08  \n",
       "3           7.5          2015  1.839999e+08  1.902723e+09  \n",
       "4           7.3          2015  1.747999e+08  1.385749e+09  "
      ]
     },
     "execution_count": 26,
     "metadata": {},
     "output_type": "execute_result"
    }
   ],
   "source": [
    "#checking to see the updated dataset after dropping our non relevant columns\n",
    "df.head()"
   ]
  },
  {
   "cell_type": "markdown",
   "id": "f0238216",
   "metadata": {},
   "source": [
    "Now we have our dropped columns effected and we can see the dataframe of our dataset to be analysed without the unwanted columns."
   ]
  },
  {
   "cell_type": "code",
   "execution_count": 27,
   "id": "2d93cd12",
   "metadata": {
    "scrolled": true
   },
   "outputs": [
    {
     "name": "stdout",
     "output_type": "stream",
     "text": [
      "<class 'pandas.core.frame.DataFrame'>\n",
      "RangeIndex: 10866 entries, 0 to 10865\n",
      "Data columns (total 12 columns):\n",
      " #   Column          Non-Null Count  Dtype  \n",
      "---  ------          --------------  -----  \n",
      " 0   popularity      10866 non-null  float64\n",
      " 1   budget          10866 non-null  int64  \n",
      " 2   revenue         10866 non-null  int64  \n",
      " 3   original_title  10866 non-null  object \n",
      " 4   runtime         10866 non-null  int64  \n",
      " 5   genres          10843 non-null  object \n",
      " 6   release_date    10866 non-null  object \n",
      " 7   vote_count      10866 non-null  int64  \n",
      " 8   vote_average    10866 non-null  float64\n",
      " 9   release_year    10866 non-null  int64  \n",
      " 10  budget_adj      10866 non-null  float64\n",
      " 11  revenue_adj     10866 non-null  float64\n",
      "dtypes: float64(4), int64(5), object(3)\n",
      "memory usage: 1018.8+ KB\n"
     ]
    }
   ],
   "source": [
    "#lets have a look about the information of our dataset at the moment\n",
    "df.info()"
   ]
  },
  {
   "cell_type": "markdown",
   "id": "b8d5d78e",
   "metadata": {},
   "source": [
    "Sequel dropping our non relevant columns, we can find that we now have 12 columns for our data analysis.\n",
    "\n",
    "Also further observations show that all columns are filled, except for genres with some few missing values since the non-null count for it is quite lower than the total number of rows which is 10866."
   ]
  },
  {
   "cell_type": "markdown",
   "id": "0f13952c",
   "metadata": {},
   "source": [
    "Next step in our cleaning process will be to check if our data contains duplicate vaalues. Obviously they always contain that."
   ]
  },
  {
   "cell_type": "code",
   "execution_count": 28,
   "id": "a17237bd",
   "metadata": {},
   "outputs": [
    {
     "data": {
      "text/plain": [
       "1"
      ]
     },
     "execution_count": 28,
     "metadata": {},
     "output_type": "execute_result"
    }
   ],
   "source": [
    "#lets check for duplicate values\n",
    "sum(df.duplicated())"
   ]
  },
  {
   "cell_type": "markdown",
   "id": "f02a1d57",
   "metadata": {},
   "source": [
    "using the sum duplicate function to check for the total number of dupliates in our dataset, we can find that we have 1 duplicate value. however, further investigation will need to be carried out as this is not all that satisfactory"
   ]
  },
  {
   "cell_type": "markdown",
   "id": "a303ba5b",
   "metadata": {},
   "source": [
    "So here, we decide to drop the duplicates that we may possibly be having"
   ]
  },
  {
   "cell_type": "code",
   "execution_count": 29,
   "id": "d293b237",
   "metadata": {
    "scrolled": true
   },
   "outputs": [
    {
     "data": {
      "text/plain": [
       "<bound method DataFrame.drop_duplicates of        popularity     budget     revenue                original_title  \\\n",
       "0       32.985763  150000000  1513528810                Jurassic World   \n",
       "1       28.419936  150000000   378436354            Mad Max: Fury Road   \n",
       "2       13.112507  110000000   295238201                     Insurgent   \n",
       "3       11.173104  200000000  2068178225  Star Wars: The Force Awakens   \n",
       "4        9.335014  190000000  1506249360                     Furious 7   \n",
       "...           ...        ...         ...                           ...   \n",
       "10861    0.080598          0           0            The Endless Summer   \n",
       "10862    0.065543          0           0                    Grand Prix   \n",
       "10863    0.065141          0           0           Beregis Avtomobilya   \n",
       "10864    0.064317          0           0        What's Up, Tiger Lily?   \n",
       "10865    0.035919      19000           0      Manos: The Hands of Fate   \n",
       "\n",
       "       runtime                                     genres release_date  \\\n",
       "0          124  Action|Adventure|Science Fiction|Thriller       6/9/15   \n",
       "1          120  Action|Adventure|Science Fiction|Thriller      5/13/15   \n",
       "2          119         Adventure|Science Fiction|Thriller      3/18/15   \n",
       "3          136   Action|Adventure|Science Fiction|Fantasy     12/15/15   \n",
       "4          137                      Action|Crime|Thriller       4/1/15   \n",
       "...        ...                                        ...          ...   \n",
       "10861       95                                Documentary      6/15/66   \n",
       "10862      176                     Action|Adventure|Drama     12/21/66   \n",
       "10863       94                             Mystery|Comedy       1/1/66   \n",
       "10864       80                              Action|Comedy      11/2/66   \n",
       "10865       74                                     Horror     11/15/66   \n",
       "\n",
       "       vote_count  vote_average  release_year    budget_adj   revenue_adj  \n",
       "0            5562           6.5          2015  1.379999e+08  1.392446e+09  \n",
       "1            6185           7.1          2015  1.379999e+08  3.481613e+08  \n",
       "2            2480           6.3          2015  1.012000e+08  2.716190e+08  \n",
       "3            5292           7.5          2015  1.839999e+08  1.902723e+09  \n",
       "4            2947           7.3          2015  1.747999e+08  1.385749e+09  \n",
       "...           ...           ...           ...           ...           ...  \n",
       "10861          11           7.4          1966  0.000000e+00  0.000000e+00  \n",
       "10862          20           5.7          1966  0.000000e+00  0.000000e+00  \n",
       "10863          11           6.5          1966  0.000000e+00  0.000000e+00  \n",
       "10864          22           5.4          1966  0.000000e+00  0.000000e+00  \n",
       "10865          15           1.5          1966  1.276423e+05  0.000000e+00  \n",
       "\n",
       "[10866 rows x 12 columns]>"
      ]
     },
     "execution_count": 29,
     "metadata": {},
     "output_type": "execute_result"
    }
   ],
   "source": [
    "#using the drop duplicates, let us drop duplicate values.\n",
    "df.drop_duplicates"
   ]
  },
  {
   "cell_type": "code",
   "execution_count": 13,
   "id": "a9e37e41",
   "metadata": {},
   "outputs": [
    {
     "data": {
      "text/plain": [
       "1"
      ]
     },
     "execution_count": 13,
     "metadata": {},
     "output_type": "execute_result"
    }
   ],
   "source": [
    "#lets check for duplicate values\n",
    "sum(df.duplicated())"
   ]
  },
  {
   "cell_type": "markdown",
   "id": "e0513261",
   "metadata": {},
   "source": [
    "looking at this, our result still seem to not be satisfactory, so we move onto checking for missing values"
   ]
  },
  {
   "cell_type": "markdown",
   "id": "2d0d6020",
   "metadata": {},
   "source": [
    "Next step of our cleaning process is to check for missing values in our data as we're very sure that there will be quite a couple or lots of missing data. so here, in order not to be lost in guesses, lets find out in the next step below"
   ]
  },
  {
   "cell_type": "code",
   "execution_count": 30,
   "id": "aa6bb50a",
   "metadata": {
    "scrolled": true
   },
   "outputs": [
    {
     "data": {
      "text/plain": [
       "popularity         0\n",
       "budget             0\n",
       "revenue            0\n",
       "original_title     0\n",
       "runtime            0\n",
       "genres            23\n",
       "release_date       0\n",
       "vote_count         0\n",
       "vote_average       0\n",
       "release_year       0\n",
       "budget_adj         0\n",
       "revenue_adj        0\n",
       "dtype: int64"
      ]
     },
     "execution_count": 30,
     "metadata": {},
     "output_type": "execute_result"
    }
   ],
   "source": [
    "#Check for missing values\n",
    "df.isna().sum()"
   ]
  },
  {
   "cell_type": "markdown",
   "id": "e7800a2a",
   "metadata": {},
   "source": [
    "After checking for missing data, we found that the column 'genres' have about 23 missing columns, hence we'll need to drop them or either fill them."
   ]
  },
  {
   "cell_type": "markdown",
   "id": "01f476ed",
   "metadata": {},
   "source": [
    "Now that we understand that our column genres has quite a lot of missing data, lets go on ahed to check for the missing values for genres"
   ]
  },
  {
   "cell_type": "code",
   "execution_count": 31,
   "id": "6d125735",
   "metadata": {
    "scrolled": true
   },
   "outputs": [
    {
     "data": {
      "text/html": [
       "<div>\n",
       "<style scoped>\n",
       "    .dataframe tbody tr th:only-of-type {\n",
       "        vertical-align: middle;\n",
       "    }\n",
       "\n",
       "    .dataframe tbody tr th {\n",
       "        vertical-align: top;\n",
       "    }\n",
       "\n",
       "    .dataframe thead th {\n",
       "        text-align: right;\n",
       "    }\n",
       "</style>\n",
       "<table border=\"1\" class=\"dataframe\">\n",
       "  <thead>\n",
       "    <tr style=\"text-align: right;\">\n",
       "      <th></th>\n",
       "      <th>popularity</th>\n",
       "      <th>budget</th>\n",
       "      <th>revenue</th>\n",
       "      <th>original_title</th>\n",
       "      <th>runtime</th>\n",
       "      <th>genres</th>\n",
       "      <th>release_date</th>\n",
       "      <th>vote_count</th>\n",
       "      <th>vote_average</th>\n",
       "      <th>release_year</th>\n",
       "      <th>budget_adj</th>\n",
       "      <th>revenue_adj</th>\n",
       "    </tr>\n",
       "  </thead>\n",
       "  <tbody>\n",
       "    <tr>\n",
       "      <th>424</th>\n",
       "      <td>0.244648</td>\n",
       "      <td>0</td>\n",
       "      <td>0</td>\n",
       "      <td>Belli di papÃ</td>\n",
       "      <td>100</td>\n",
       "      <td>NaN</td>\n",
       "      <td>10/29/15</td>\n",
       "      <td>21</td>\n",
       "      <td>6.1</td>\n",
       "      <td>2015</td>\n",
       "      <td>0.00000</td>\n",
       "      <td>0.0</td>\n",
       "    </tr>\n",
       "    <tr>\n",
       "      <th>620</th>\n",
       "      <td>0.129696</td>\n",
       "      <td>0</td>\n",
       "      <td>0</td>\n",
       "      <td>All Hallows' Eve 2</td>\n",
       "      <td>90</td>\n",
       "      <td>NaN</td>\n",
       "      <td>10/6/15</td>\n",
       "      <td>13</td>\n",
       "      <td>5.0</td>\n",
       "      <td>2015</td>\n",
       "      <td>0.00000</td>\n",
       "      <td>0.0</td>\n",
       "    </tr>\n",
       "    <tr>\n",
       "      <th>997</th>\n",
       "      <td>0.330431</td>\n",
       "      <td>0</td>\n",
       "      <td>0</td>\n",
       "      <td>Star Wars Rebels: Spark of Rebellion</td>\n",
       "      <td>44</td>\n",
       "      <td>NaN</td>\n",
       "      <td>10/3/14</td>\n",
       "      <td>13</td>\n",
       "      <td>6.8</td>\n",
       "      <td>2014</td>\n",
       "      <td>0.00000</td>\n",
       "      <td>0.0</td>\n",
       "    </tr>\n",
       "    <tr>\n",
       "      <th>1712</th>\n",
       "      <td>0.302095</td>\n",
       "      <td>0</td>\n",
       "      <td>0</td>\n",
       "      <td>Prayers for Bobby</td>\n",
       "      <td>88</td>\n",
       "      <td>NaN</td>\n",
       "      <td>2/27/09</td>\n",
       "      <td>57</td>\n",
       "      <td>7.4</td>\n",
       "      <td>2009</td>\n",
       "      <td>0.00000</td>\n",
       "      <td>0.0</td>\n",
       "    </tr>\n",
       "    <tr>\n",
       "      <th>1897</th>\n",
       "      <td>0.020701</td>\n",
       "      <td>0</td>\n",
       "      <td>0</td>\n",
       "      <td>Jonas Brothers: The Concert Experience</td>\n",
       "      <td>76</td>\n",
       "      <td>NaN</td>\n",
       "      <td>2/27/09</td>\n",
       "      <td>11</td>\n",
       "      <td>7.0</td>\n",
       "      <td>2009</td>\n",
       "      <td>0.00000</td>\n",
       "      <td>0.0</td>\n",
       "    </tr>\n",
       "    <tr>\n",
       "      <th>2370</th>\n",
       "      <td>0.081892</td>\n",
       "      <td>0</td>\n",
       "      <td>0</td>\n",
       "      <td>Freshman Father</td>\n",
       "      <td>0</td>\n",
       "      <td>NaN</td>\n",
       "      <td>6/5/10</td>\n",
       "      <td>12</td>\n",
       "      <td>5.8</td>\n",
       "      <td>2010</td>\n",
       "      <td>0.00000</td>\n",
       "      <td>0.0</td>\n",
       "    </tr>\n",
       "    <tr>\n",
       "      <th>2376</th>\n",
       "      <td>0.068411</td>\n",
       "      <td>0</td>\n",
       "      <td>0</td>\n",
       "      <td>Doctor Who: A Christmas Carol</td>\n",
       "      <td>62</td>\n",
       "      <td>NaN</td>\n",
       "      <td>12/25/10</td>\n",
       "      <td>11</td>\n",
       "      <td>7.7</td>\n",
       "      <td>2010</td>\n",
       "      <td>0.00000</td>\n",
       "      <td>0.0</td>\n",
       "    </tr>\n",
       "    <tr>\n",
       "      <th>2853</th>\n",
       "      <td>0.130018</td>\n",
       "      <td>0</td>\n",
       "      <td>0</td>\n",
       "      <td>Vizontele</td>\n",
       "      <td>110</td>\n",
       "      <td>NaN</td>\n",
       "      <td>2/2/01</td>\n",
       "      <td>12</td>\n",
       "      <td>7.2</td>\n",
       "      <td>2001</td>\n",
       "      <td>0.00000</td>\n",
       "      <td>0.0</td>\n",
       "    </tr>\n",
       "    <tr>\n",
       "      <th>3279</th>\n",
       "      <td>0.145331</td>\n",
       "      <td>0</td>\n",
       "      <td>0</td>\n",
       "      <td>ì•„ê¸°ì™€ ë‚˜</td>\n",
       "      <td>96</td>\n",
       "      <td>NaN</td>\n",
       "      <td>8/13/08</td>\n",
       "      <td>11</td>\n",
       "      <td>6.1</td>\n",
       "      <td>2008</td>\n",
       "      <td>0.00000</td>\n",
       "      <td>0.0</td>\n",
       "    </tr>\n",
       "    <tr>\n",
       "      <th>4547</th>\n",
       "      <td>0.520520</td>\n",
       "      <td>0</td>\n",
       "      <td>0</td>\n",
       "      <td>London 2012 Olympic Opening Ceremony: Isles of...</td>\n",
       "      <td>220</td>\n",
       "      <td>NaN</td>\n",
       "      <td>7/27/12</td>\n",
       "      <td>12</td>\n",
       "      <td>8.3</td>\n",
       "      <td>2012</td>\n",
       "      <td>0.00000</td>\n",
       "      <td>0.0</td>\n",
       "    </tr>\n",
       "    <tr>\n",
       "      <th>4732</th>\n",
       "      <td>0.235911</td>\n",
       "      <td>0</td>\n",
       "      <td>0</td>\n",
       "      <td>The Scapegoat</td>\n",
       "      <td>100</td>\n",
       "      <td>NaN</td>\n",
       "      <td>9/9/12</td>\n",
       "      <td>12</td>\n",
       "      <td>6.2</td>\n",
       "      <td>2012</td>\n",
       "      <td>0.00000</td>\n",
       "      <td>0.0</td>\n",
       "    </tr>\n",
       "    <tr>\n",
       "      <th>4797</th>\n",
       "      <td>0.167501</td>\n",
       "      <td>0</td>\n",
       "      <td>0</td>\n",
       "      <td>Doctor Who: The Snowmen</td>\n",
       "      <td>60</td>\n",
       "      <td>NaN</td>\n",
       "      <td>12/25/12</td>\n",
       "      <td>10</td>\n",
       "      <td>7.8</td>\n",
       "      <td>2012</td>\n",
       "      <td>0.00000</td>\n",
       "      <td>0.0</td>\n",
       "    </tr>\n",
       "    <tr>\n",
       "      <th>4890</th>\n",
       "      <td>0.083202</td>\n",
       "      <td>0</td>\n",
       "      <td>0</td>\n",
       "      <td>Cousin Ben Troop Screening</td>\n",
       "      <td>2</td>\n",
       "      <td>NaN</td>\n",
       "      <td>1/1/12</td>\n",
       "      <td>14</td>\n",
       "      <td>7.0</td>\n",
       "      <td>2012</td>\n",
       "      <td>0.00000</td>\n",
       "      <td>0.0</td>\n",
       "    </tr>\n",
       "    <tr>\n",
       "      <th>5830</th>\n",
       "      <td>0.248944</td>\n",
       "      <td>0</td>\n",
       "      <td>0</td>\n",
       "      <td>Doctor Who: The Time of the Doctor</td>\n",
       "      <td>60</td>\n",
       "      <td>NaN</td>\n",
       "      <td>12/25/13</td>\n",
       "      <td>26</td>\n",
       "      <td>8.5</td>\n",
       "      <td>2013</td>\n",
       "      <td>0.00000</td>\n",
       "      <td>0.0</td>\n",
       "    </tr>\n",
       "    <tr>\n",
       "      <th>5934</th>\n",
       "      <td>0.067433</td>\n",
       "      <td>0</td>\n",
       "      <td>0</td>\n",
       "      <td>Prada: Candy</td>\n",
       "      <td>3</td>\n",
       "      <td>NaN</td>\n",
       "      <td>3/25/13</td>\n",
       "      <td>27</td>\n",
       "      <td>6.9</td>\n",
       "      <td>2013</td>\n",
       "      <td>0.00000</td>\n",
       "      <td>0.0</td>\n",
       "    </tr>\n",
       "    <tr>\n",
       "      <th>6043</th>\n",
       "      <td>0.039080</td>\n",
       "      <td>0</td>\n",
       "      <td>0</td>\n",
       "      <td>Bombay Talkies</td>\n",
       "      <td>127</td>\n",
       "      <td>NaN</td>\n",
       "      <td>5/3/13</td>\n",
       "      <td>12</td>\n",
       "      <td>5.9</td>\n",
       "      <td>2013</td>\n",
       "      <td>0.00000</td>\n",
       "      <td>0.0</td>\n",
       "    </tr>\n",
       "    <tr>\n",
       "      <th>6530</th>\n",
       "      <td>0.092724</td>\n",
       "      <td>0</td>\n",
       "      <td>0</td>\n",
       "      <td>Saw Rebirth</td>\n",
       "      <td>6</td>\n",
       "      <td>NaN</td>\n",
       "      <td>10/24/05</td>\n",
       "      <td>24</td>\n",
       "      <td>5.9</td>\n",
       "      <td>2005</td>\n",
       "      <td>0.00000</td>\n",
       "      <td>0.0</td>\n",
       "    </tr>\n",
       "    <tr>\n",
       "      <th>8234</th>\n",
       "      <td>0.028874</td>\n",
       "      <td>0</td>\n",
       "      <td>0</td>\n",
       "      <td>Viaggi di nozze</td>\n",
       "      <td>103</td>\n",
       "      <td>NaN</td>\n",
       "      <td>12/15/95</td>\n",
       "      <td>44</td>\n",
       "      <td>6.7</td>\n",
       "      <td>1995</td>\n",
       "      <td>0.00000</td>\n",
       "      <td>0.0</td>\n",
       "    </tr>\n",
       "    <tr>\n",
       "      <th>8614</th>\n",
       "      <td>0.273934</td>\n",
       "      <td>0</td>\n",
       "      <td>0</td>\n",
       "      <td>T2 3-D: Battle Across Time</td>\n",
       "      <td>12</td>\n",
       "      <td>NaN</td>\n",
       "      <td>1/1/96</td>\n",
       "      <td>14</td>\n",
       "      <td>6.7</td>\n",
       "      <td>1996</td>\n",
       "      <td>0.00000</td>\n",
       "      <td>0.0</td>\n",
       "    </tr>\n",
       "    <tr>\n",
       "      <th>8878</th>\n",
       "      <td>0.038045</td>\n",
       "      <td>0</td>\n",
       "      <td>0</td>\n",
       "      <td>Mom's Got a Date With a Vampire</td>\n",
       "      <td>85</td>\n",
       "      <td>NaN</td>\n",
       "      <td>10/13/00</td>\n",
       "      <td>16</td>\n",
       "      <td>5.4</td>\n",
       "      <td>2000</td>\n",
       "      <td>0.00000</td>\n",
       "      <td>0.0</td>\n",
       "    </tr>\n",
       "    <tr>\n",
       "      <th>9307</th>\n",
       "      <td>0.094652</td>\n",
       "      <td>0</td>\n",
       "      <td>0</td>\n",
       "      <td>Goldeneye</td>\n",
       "      <td>105</td>\n",
       "      <td>NaN</td>\n",
       "      <td>8/26/89</td>\n",
       "      <td>10</td>\n",
       "      <td>5.3</td>\n",
       "      <td>1989</td>\n",
       "      <td>0.00000</td>\n",
       "      <td>0.0</td>\n",
       "    </tr>\n",
       "    <tr>\n",
       "      <th>9799</th>\n",
       "      <td>0.175008</td>\n",
       "      <td>0</td>\n",
       "      <td>0</td>\n",
       "      <td>The Amputee</td>\n",
       "      <td>5</td>\n",
       "      <td>NaN</td>\n",
       "      <td>1/1/74</td>\n",
       "      <td>11</td>\n",
       "      <td>5.0</td>\n",
       "      <td>1974</td>\n",
       "      <td>0.00000</td>\n",
       "      <td>0.0</td>\n",
       "    </tr>\n",
       "    <tr>\n",
       "      <th>10659</th>\n",
       "      <td>0.344172</td>\n",
       "      <td>5000</td>\n",
       "      <td>0</td>\n",
       "      <td>The Party at Kitty and Stud's</td>\n",
       "      <td>71</td>\n",
       "      <td>NaN</td>\n",
       "      <td>2/10/70</td>\n",
       "      <td>10</td>\n",
       "      <td>3.0</td>\n",
       "      <td>1970</td>\n",
       "      <td>28081.84172</td>\n",
       "      <td>0.0</td>\n",
       "    </tr>\n",
       "  </tbody>\n",
       "</table>\n",
       "</div>"
      ],
      "text/plain": [
       "       popularity  budget  revenue  \\\n",
       "424      0.244648       0        0   \n",
       "620      0.129696       0        0   \n",
       "997      0.330431       0        0   \n",
       "1712     0.302095       0        0   \n",
       "1897     0.020701       0        0   \n",
       "2370     0.081892       0        0   \n",
       "2376     0.068411       0        0   \n",
       "2853     0.130018       0        0   \n",
       "3279     0.145331       0        0   \n",
       "4547     0.520520       0        0   \n",
       "4732     0.235911       0        0   \n",
       "4797     0.167501       0        0   \n",
       "4890     0.083202       0        0   \n",
       "5830     0.248944       0        0   \n",
       "5934     0.067433       0        0   \n",
       "6043     0.039080       0        0   \n",
       "6530     0.092724       0        0   \n",
       "8234     0.028874       0        0   \n",
       "8614     0.273934       0        0   \n",
       "8878     0.038045       0        0   \n",
       "9307     0.094652       0        0   \n",
       "9799     0.175008       0        0   \n",
       "10659    0.344172    5000        0   \n",
       "\n",
       "                                          original_title  runtime genres  \\\n",
       "424                                       Belli di papÃ       100    NaN   \n",
       "620                                   All Hallows' Eve 2       90    NaN   \n",
       "997                 Star Wars Rebels: Spark of Rebellion       44    NaN   \n",
       "1712                                   Prayers for Bobby       88    NaN   \n",
       "1897              Jonas Brothers: The Concert Experience       76    NaN   \n",
       "2370                                     Freshman Father        0    NaN   \n",
       "2376                       Doctor Who: A Christmas Carol       62    NaN   \n",
       "2853                                           Vizontele      110    NaN   \n",
       "3279                                       ì•„ê¸°ì™€ ë‚˜       96    NaN   \n",
       "4547   London 2012 Olympic Opening Ceremony: Isles of...      220    NaN   \n",
       "4732                                       The Scapegoat      100    NaN   \n",
       "4797                             Doctor Who: The Snowmen       60    NaN   \n",
       "4890                          Cousin Ben Troop Screening        2    NaN   \n",
       "5830                  Doctor Who: The Time of the Doctor       60    NaN   \n",
       "5934                                        Prada: Candy        3    NaN   \n",
       "6043                                      Bombay Talkies      127    NaN   \n",
       "6530                                         Saw Rebirth        6    NaN   \n",
       "8234                                     Viaggi di nozze      103    NaN   \n",
       "8614                          T2 3-D: Battle Across Time       12    NaN   \n",
       "8878                     Mom's Got a Date With a Vampire       85    NaN   \n",
       "9307                                           Goldeneye      105    NaN   \n",
       "9799                                         The Amputee        5    NaN   \n",
       "10659                      The Party at Kitty and Stud's       71    NaN   \n",
       "\n",
       "      release_date  vote_count  vote_average  release_year   budget_adj  \\\n",
       "424       10/29/15          21           6.1          2015      0.00000   \n",
       "620        10/6/15          13           5.0          2015      0.00000   \n",
       "997        10/3/14          13           6.8          2014      0.00000   \n",
       "1712       2/27/09          57           7.4          2009      0.00000   \n",
       "1897       2/27/09          11           7.0          2009      0.00000   \n",
       "2370        6/5/10          12           5.8          2010      0.00000   \n",
       "2376      12/25/10          11           7.7          2010      0.00000   \n",
       "2853        2/2/01          12           7.2          2001      0.00000   \n",
       "3279       8/13/08          11           6.1          2008      0.00000   \n",
       "4547       7/27/12          12           8.3          2012      0.00000   \n",
       "4732        9/9/12          12           6.2          2012      0.00000   \n",
       "4797      12/25/12          10           7.8          2012      0.00000   \n",
       "4890        1/1/12          14           7.0          2012      0.00000   \n",
       "5830      12/25/13          26           8.5          2013      0.00000   \n",
       "5934       3/25/13          27           6.9          2013      0.00000   \n",
       "6043        5/3/13          12           5.9          2013      0.00000   \n",
       "6530      10/24/05          24           5.9          2005      0.00000   \n",
       "8234      12/15/95          44           6.7          1995      0.00000   \n",
       "8614        1/1/96          14           6.7          1996      0.00000   \n",
       "8878      10/13/00          16           5.4          2000      0.00000   \n",
       "9307       8/26/89          10           5.3          1989      0.00000   \n",
       "9799        1/1/74          11           5.0          1974      0.00000   \n",
       "10659      2/10/70          10           3.0          1970  28081.84172   \n",
       "\n",
       "       revenue_adj  \n",
       "424            0.0  \n",
       "620            0.0  \n",
       "997            0.0  \n",
       "1712           0.0  \n",
       "1897           0.0  \n",
       "2370           0.0  \n",
       "2376           0.0  \n",
       "2853           0.0  \n",
       "3279           0.0  \n",
       "4547           0.0  \n",
       "4732           0.0  \n",
       "4797           0.0  \n",
       "4890           0.0  \n",
       "5830           0.0  \n",
       "5934           0.0  \n",
       "6043           0.0  \n",
       "6530           0.0  \n",
       "8234           0.0  \n",
       "8614           0.0  \n",
       "8878           0.0  \n",
       "9307           0.0  \n",
       "9799           0.0  \n",
       "10659          0.0  "
      ]
     },
     "execution_count": 31,
     "metadata": {},
     "output_type": "execute_result"
    }
   ],
   "source": [
    "#check missing values in the genres column\n",
    "df[df.genres.isna()]"
   ]
  },
  {
   "cell_type": "markdown",
   "id": "e23b7373",
   "metadata": {},
   "source": [
    "Having a deeper look at the missing values, we can find that most of the rows with missing values in the genres column have values of 0 in the budget_adj and revenue_adj, and will not be neecessary for this analysis, hence we will have to drop them as well."
   ]
  },
  {
   "cell_type": "markdown",
   "id": "caa69b61",
   "metadata": {},
   "source": [
    "Now that we've been able to identify our missing data, we can be sure to put them away using the dropna and ensure that the changes are made to effect with the inplace function"
   ]
  },
  {
   "cell_type": "code",
   "execution_count": 32,
   "id": "1f99b5f1",
   "metadata": {},
   "outputs": [],
   "source": [
    "#Drop rows with Missing values\n",
    "df.dropna(inplace=True)"
   ]
  },
  {
   "cell_type": "code",
   "execution_count": 33,
   "id": "60896086",
   "metadata": {
    "scrolled": true
   },
   "outputs": [
    {
     "data": {
      "text/plain": [
       "popularity        0\n",
       "budget            0\n",
       "revenue           0\n",
       "original_title    0\n",
       "runtime           0\n",
       "genres            0\n",
       "release_date      0\n",
       "vote_count        0\n",
       "vote_average      0\n",
       "release_year      0\n",
       "budget_adj        0\n",
       "revenue_adj       0\n",
       "dtype: int64"
      ]
     },
     "execution_count": 33,
     "metadata": {},
     "output_type": "execute_result"
    }
   ],
   "source": [
    "#check if the rows with missing values have been droped.\n",
    "df.isna().sum()"
   ]
  },
  {
   "cell_type": "markdown",
   "id": "dc98fec2",
   "metadata": {},
   "source": [
    "Now we have our dataset clean from missing values"
   ]
  },
  {
   "cell_type": "markdown",
   "id": "08c0e156",
   "metadata": {},
   "source": [
    "However this may be the case, let us go on ahead to check for this "
   ]
  },
  {
   "cell_type": "code",
   "execution_count": 34,
   "id": "b51981e1",
   "metadata": {},
   "outputs": [
    {
     "data": {
      "text/html": [
       "<div>\n",
       "<style scoped>\n",
       "    .dataframe tbody tr th:only-of-type {\n",
       "        vertical-align: middle;\n",
       "    }\n",
       "\n",
       "    .dataframe tbody tr th {\n",
       "        vertical-align: top;\n",
       "    }\n",
       "\n",
       "    .dataframe thead th {\n",
       "        text-align: right;\n",
       "    }\n",
       "</style>\n",
       "<table border=\"1\" class=\"dataframe\">\n",
       "  <thead>\n",
       "    <tr style=\"text-align: right;\">\n",
       "      <th></th>\n",
       "      <th>popularity</th>\n",
       "      <th>budget</th>\n",
       "      <th>revenue</th>\n",
       "      <th>original_title</th>\n",
       "      <th>runtime</th>\n",
       "      <th>genres</th>\n",
       "      <th>release_date</th>\n",
       "      <th>vote_count</th>\n",
       "      <th>vote_average</th>\n",
       "      <th>release_year</th>\n",
       "      <th>budget_adj</th>\n",
       "      <th>revenue_adj</th>\n",
       "    </tr>\n",
       "  </thead>\n",
       "  <tbody>\n",
       "    <tr>\n",
       "      <th>0</th>\n",
       "      <td>32.985763</td>\n",
       "      <td>150000000</td>\n",
       "      <td>1513528810</td>\n",
       "      <td>Jurassic World</td>\n",
       "      <td>124</td>\n",
       "      <td>Action|Adventure|Science Fiction|Thriller</td>\n",
       "      <td>6/9/15</td>\n",
       "      <td>5562</td>\n",
       "      <td>6.5</td>\n",
       "      <td>2015</td>\n",
       "      <td>1.379999e+08</td>\n",
       "      <td>1.392446e+09</td>\n",
       "    </tr>\n",
       "    <tr>\n",
       "      <th>1</th>\n",
       "      <td>28.419936</td>\n",
       "      <td>150000000</td>\n",
       "      <td>378436354</td>\n",
       "      <td>Mad Max: Fury Road</td>\n",
       "      <td>120</td>\n",
       "      <td>Action|Adventure|Science Fiction|Thriller</td>\n",
       "      <td>5/13/15</td>\n",
       "      <td>6185</td>\n",
       "      <td>7.1</td>\n",
       "      <td>2015</td>\n",
       "      <td>1.379999e+08</td>\n",
       "      <td>3.481613e+08</td>\n",
       "    </tr>\n",
       "    <tr>\n",
       "      <th>2</th>\n",
       "      <td>13.112507</td>\n",
       "      <td>110000000</td>\n",
       "      <td>295238201</td>\n",
       "      <td>Insurgent</td>\n",
       "      <td>119</td>\n",
       "      <td>Adventure|Science Fiction|Thriller</td>\n",
       "      <td>3/18/15</td>\n",
       "      <td>2480</td>\n",
       "      <td>6.3</td>\n",
       "      <td>2015</td>\n",
       "      <td>1.012000e+08</td>\n",
       "      <td>2.716190e+08</td>\n",
       "    </tr>\n",
       "    <tr>\n",
       "      <th>3</th>\n",
       "      <td>11.173104</td>\n",
       "      <td>200000000</td>\n",
       "      <td>2068178225</td>\n",
       "      <td>Star Wars: The Force Awakens</td>\n",
       "      <td>136</td>\n",
       "      <td>Action|Adventure|Science Fiction|Fantasy</td>\n",
       "      <td>12/15/15</td>\n",
       "      <td>5292</td>\n",
       "      <td>7.5</td>\n",
       "      <td>2015</td>\n",
       "      <td>1.839999e+08</td>\n",
       "      <td>1.902723e+09</td>\n",
       "    </tr>\n",
       "    <tr>\n",
       "      <th>4</th>\n",
       "      <td>9.335014</td>\n",
       "      <td>190000000</td>\n",
       "      <td>1506249360</td>\n",
       "      <td>Furious 7</td>\n",
       "      <td>137</td>\n",
       "      <td>Action|Crime|Thriller</td>\n",
       "      <td>4/1/15</td>\n",
       "      <td>2947</td>\n",
       "      <td>7.3</td>\n",
       "      <td>2015</td>\n",
       "      <td>1.747999e+08</td>\n",
       "      <td>1.385749e+09</td>\n",
       "    </tr>\n",
       "  </tbody>\n",
       "</table>\n",
       "</div>"
      ],
      "text/plain": [
       "   popularity     budget     revenue                original_title  runtime  \\\n",
       "0   32.985763  150000000  1513528810                Jurassic World      124   \n",
       "1   28.419936  150000000   378436354            Mad Max: Fury Road      120   \n",
       "2   13.112507  110000000   295238201                     Insurgent      119   \n",
       "3   11.173104  200000000  2068178225  Star Wars: The Force Awakens      136   \n",
       "4    9.335014  190000000  1506249360                     Furious 7      137   \n",
       "\n",
       "                                      genres release_date  vote_count  \\\n",
       "0  Action|Adventure|Science Fiction|Thriller       6/9/15        5562   \n",
       "1  Action|Adventure|Science Fiction|Thriller      5/13/15        6185   \n",
       "2         Adventure|Science Fiction|Thriller      3/18/15        2480   \n",
       "3   Action|Adventure|Science Fiction|Fantasy     12/15/15        5292   \n",
       "4                      Action|Crime|Thriller       4/1/15        2947   \n",
       "\n",
       "   vote_average  release_year    budget_adj   revenue_adj  \n",
       "0           6.5          2015  1.379999e+08  1.392446e+09  \n",
       "1           7.1          2015  1.379999e+08  3.481613e+08  \n",
       "2           6.3          2015  1.012000e+08  2.716190e+08  \n",
       "3           7.5          2015  1.839999e+08  1.902723e+09  \n",
       "4           7.3          2015  1.747999e+08  1.385749e+09  "
      ]
     },
     "execution_count": 34,
     "metadata": {},
     "output_type": "execute_result"
    }
   ],
   "source": [
    "#let us view our new data ready for analysis\n",
    "df.head()"
   ]
  },
  {
   "cell_type": "markdown",
   "id": "0e94c87d",
   "metadata": {},
   "source": [
    "Also, lets have a quick check for the components of our dataset, to see what it entails"
   ]
  },
  {
   "cell_type": "code",
   "execution_count": 19,
   "id": "4dfdcac0",
   "metadata": {},
   "outputs": [
    {
     "data": {
      "text/plain": [
       "(10843, 11)"
      ]
     },
     "execution_count": 19,
     "metadata": {},
     "output_type": "execute_result"
    }
   ],
   "source": [
    "#Shape of our data\n",
    "df.shape"
   ]
  },
  {
   "cell_type": "markdown",
   "id": "39d87ad0",
   "metadata": {},
   "source": [
    "Now we can see that our dataset contains 10843 row and 12 columns, as opposed to when we first started our analysis process. In this regaards, we will be moving into exploring with our data"
   ]
  },
  {
   "cell_type": "markdown",
   "id": "9a09f8cf",
   "metadata": {},
   "source": [
    "However. before going into that, recall that the genres column has genres separated by |\n",
    "Lets go on ahead to split the columnusing the eexplode function"
   ]
  },
  {
   "cell_type": "code",
   "execution_count": 64,
   "id": "6b8bc1bc",
   "metadata": {},
   "outputs": [
    {
     "data": {
      "text/plain": [
       "(10843, 12)"
      ]
     },
     "execution_count": 64,
     "metadata": {},
     "output_type": "execute_result"
    }
   ],
   "source": [
    "df.shape"
   ]
  },
  {
   "cell_type": "markdown",
   "id": "88acadf6",
   "metadata": {},
   "source": [
    "Next, let's look at creating additional columns that will help in our analysis. \n",
    "\n",
    "the additional columns to be created will include;\n",
    "\n",
    "Profit\n",
    "\n",
    "lead_actor\n",
    "\n",
    "main_genre\n",
    "\n",
    "lead_director\n"
   ]
  },
  {
   "cell_type": "code",
   "execution_count": 27,
   "id": "0dee0f8c",
   "metadata": {},
   "outputs": [],
   "source": [
    "#Creating additional columns\n",
    "df['profit']=df.revenue_adj-df.budget_adj\n",
    "df['lead_actor']=df.cast.str.split(pat='|',expand=True)[0]\n",
    "df['main_genre']=df.genres.str.split(pat='|',expand=True)[0]\n",
    "df['lead_director']=df.director.str.split(pat='|',expand=True)[0]"
   ]
  },
  {
   "cell_type": "markdown",
   "id": "6c0158d4",
   "metadata": {},
   "source": [
    "Now that we have our new columns created, there's need for us to drop the columns from which these additional guys were created from"
   ]
  },
  {
   "cell_type": "code",
   "execution_count": 29,
   "id": "f50cdb3e",
   "metadata": {},
   "outputs": [],
   "source": [
    "#We will not be needing the cast, genres, director columns anymore so we will drop them also.\n",
    "\n",
    "#drop cast, genres and director columns\n",
    "df.drop(['cast','genres','director'],axis=1,inplace=True)"
   ]
  },
  {
   "cell_type": "markdown",
   "id": "51989906",
   "metadata": {},
   "source": [
    "Seeing that this is done, now lets have a look at our dataframe and proceed."
   ]
  },
  {
   "cell_type": "code",
   "execution_count": 30,
   "id": "ca4bdca4",
   "metadata": {},
   "outputs": [
    {
     "data": {
      "text/html": [
       "<div>\n",
       "<style scoped>\n",
       "    .dataframe tbody tr th:only-of-type {\n",
       "        vertical-align: middle;\n",
       "    }\n",
       "\n",
       "    .dataframe tbody tr th {\n",
       "        vertical-align: top;\n",
       "    }\n",
       "\n",
       "    .dataframe thead th {\n",
       "        text-align: right;\n",
       "    }\n",
       "</style>\n",
       "<table border=\"1\" class=\"dataframe\">\n",
       "  <thead>\n",
       "    <tr style=\"text-align: right;\">\n",
       "      <th></th>\n",
       "      <th>id</th>\n",
       "      <th>imdb_id</th>\n",
       "      <th>popularity</th>\n",
       "      <th>budget</th>\n",
       "      <th>revenue</th>\n",
       "      <th>original_title</th>\n",
       "      <th>homepage</th>\n",
       "      <th>tagline</th>\n",
       "      <th>keywords</th>\n",
       "      <th>overview</th>\n",
       "      <th>...</th>\n",
       "      <th>release_date</th>\n",
       "      <th>vote_count</th>\n",
       "      <th>vote_average</th>\n",
       "      <th>release_year</th>\n",
       "      <th>budget_adj</th>\n",
       "      <th>revenue_adj</th>\n",
       "      <th>profit</th>\n",
       "      <th>lead_actor</th>\n",
       "      <th>main_genre</th>\n",
       "      <th>lead_director</th>\n",
       "    </tr>\n",
       "  </thead>\n",
       "  <tbody>\n",
       "    <tr>\n",
       "      <th>0</th>\n",
       "      <td>135397</td>\n",
       "      <td>tt0369610</td>\n",
       "      <td>32.985763</td>\n",
       "      <td>150000000</td>\n",
       "      <td>1513528810</td>\n",
       "      <td>Jurassic World</td>\n",
       "      <td>http://www.jurassicworld.com/</td>\n",
       "      <td>The park is open.</td>\n",
       "      <td>monster|dna|tyrannosaurus rex|velociraptor|island</td>\n",
       "      <td>Twenty-two years after the events of Jurassic ...</td>\n",
       "      <td>...</td>\n",
       "      <td>6/9/15</td>\n",
       "      <td>5562</td>\n",
       "      <td>6.5</td>\n",
       "      <td>2015</td>\n",
       "      <td>1.379999e+08</td>\n",
       "      <td>1.392446e+09</td>\n",
       "      <td>1.254446e+09</td>\n",
       "      <td>Chris Pratt</td>\n",
       "      <td>Action</td>\n",
       "      <td>Colin Trevorrow</td>\n",
       "    </tr>\n",
       "    <tr>\n",
       "      <th>1</th>\n",
       "      <td>76341</td>\n",
       "      <td>tt1392190</td>\n",
       "      <td>28.419936</td>\n",
       "      <td>150000000</td>\n",
       "      <td>378436354</td>\n",
       "      <td>Mad Max: Fury Road</td>\n",
       "      <td>http://www.madmaxmovie.com/</td>\n",
       "      <td>What a Lovely Day.</td>\n",
       "      <td>future|chase|post-apocalyptic|dystopia|australia</td>\n",
       "      <td>An apocalyptic story set in the furthest reach...</td>\n",
       "      <td>...</td>\n",
       "      <td>5/13/15</td>\n",
       "      <td>6185</td>\n",
       "      <td>7.1</td>\n",
       "      <td>2015</td>\n",
       "      <td>1.379999e+08</td>\n",
       "      <td>3.481613e+08</td>\n",
       "      <td>2.101614e+08</td>\n",
       "      <td>Tom Hardy</td>\n",
       "      <td>Action</td>\n",
       "      <td>George Miller</td>\n",
       "    </tr>\n",
       "    <tr>\n",
       "      <th>2</th>\n",
       "      <td>262500</td>\n",
       "      <td>tt2908446</td>\n",
       "      <td>13.112507</td>\n",
       "      <td>110000000</td>\n",
       "      <td>295238201</td>\n",
       "      <td>Insurgent</td>\n",
       "      <td>http://www.thedivergentseries.movie/#insurgent</td>\n",
       "      <td>One Choice Can Destroy You</td>\n",
       "      <td>based on novel|revolution|dystopia|sequel|dyst...</td>\n",
       "      <td>Beatrice Prior must confront her inner demons ...</td>\n",
       "      <td>...</td>\n",
       "      <td>3/18/15</td>\n",
       "      <td>2480</td>\n",
       "      <td>6.3</td>\n",
       "      <td>2015</td>\n",
       "      <td>1.012000e+08</td>\n",
       "      <td>2.716190e+08</td>\n",
       "      <td>1.704191e+08</td>\n",
       "      <td>Shailene Woodley</td>\n",
       "      <td>Adventure</td>\n",
       "      <td>Robert Schwentke</td>\n",
       "    </tr>\n",
       "    <tr>\n",
       "      <th>3</th>\n",
       "      <td>140607</td>\n",
       "      <td>tt2488496</td>\n",
       "      <td>11.173104</td>\n",
       "      <td>200000000</td>\n",
       "      <td>2068178225</td>\n",
       "      <td>Star Wars: The Force Awakens</td>\n",
       "      <td>http://www.starwars.com/films/star-wars-episod...</td>\n",
       "      <td>Every generation has a story.</td>\n",
       "      <td>android|spaceship|jedi|space opera|3d</td>\n",
       "      <td>Thirty years after defeating the Galactic Empi...</td>\n",
       "      <td>...</td>\n",
       "      <td>12/15/15</td>\n",
       "      <td>5292</td>\n",
       "      <td>7.5</td>\n",
       "      <td>2015</td>\n",
       "      <td>1.839999e+08</td>\n",
       "      <td>1.902723e+09</td>\n",
       "      <td>1.718723e+09</td>\n",
       "      <td>Harrison Ford</td>\n",
       "      <td>Action</td>\n",
       "      <td>J.J. Abrams</td>\n",
       "    </tr>\n",
       "    <tr>\n",
       "      <th>4</th>\n",
       "      <td>168259</td>\n",
       "      <td>tt2820852</td>\n",
       "      <td>9.335014</td>\n",
       "      <td>190000000</td>\n",
       "      <td>1506249360</td>\n",
       "      <td>Furious 7</td>\n",
       "      <td>http://www.furious7.com/</td>\n",
       "      <td>Vengeance Hits Home</td>\n",
       "      <td>car race|speed|revenge|suspense|car</td>\n",
       "      <td>Deckard Shaw seeks revenge against Dominic Tor...</td>\n",
       "      <td>...</td>\n",
       "      <td>4/1/15</td>\n",
       "      <td>2947</td>\n",
       "      <td>7.3</td>\n",
       "      <td>2015</td>\n",
       "      <td>1.747999e+08</td>\n",
       "      <td>1.385749e+09</td>\n",
       "      <td>1.210949e+09</td>\n",
       "      <td>Vin Diesel</td>\n",
       "      <td>Action</td>\n",
       "      <td>James Wan</td>\n",
       "    </tr>\n",
       "  </tbody>\n",
       "</table>\n",
       "<p>5 rows × 22 columns</p>\n",
       "</div>"
      ],
      "text/plain": [
       "       id    imdb_id  popularity     budget     revenue  \\\n",
       "0  135397  tt0369610   32.985763  150000000  1513528810   \n",
       "1   76341  tt1392190   28.419936  150000000   378436354   \n",
       "2  262500  tt2908446   13.112507  110000000   295238201   \n",
       "3  140607  tt2488496   11.173104  200000000  2068178225   \n",
       "4  168259  tt2820852    9.335014  190000000  1506249360   \n",
       "\n",
       "                 original_title  \\\n",
       "0                Jurassic World   \n",
       "1            Mad Max: Fury Road   \n",
       "2                     Insurgent   \n",
       "3  Star Wars: The Force Awakens   \n",
       "4                     Furious 7   \n",
       "\n",
       "                                            homepage  \\\n",
       "0                      http://www.jurassicworld.com/   \n",
       "1                        http://www.madmaxmovie.com/   \n",
       "2     http://www.thedivergentseries.movie/#insurgent   \n",
       "3  http://www.starwars.com/films/star-wars-episod...   \n",
       "4                           http://www.furious7.com/   \n",
       "\n",
       "                         tagline  \\\n",
       "0              The park is open.   \n",
       "1             What a Lovely Day.   \n",
       "2     One Choice Can Destroy You   \n",
       "3  Every generation has a story.   \n",
       "4            Vengeance Hits Home   \n",
       "\n",
       "                                            keywords  \\\n",
       "0  monster|dna|tyrannosaurus rex|velociraptor|island   \n",
       "1   future|chase|post-apocalyptic|dystopia|australia   \n",
       "2  based on novel|revolution|dystopia|sequel|dyst...   \n",
       "3              android|spaceship|jedi|space opera|3d   \n",
       "4                car race|speed|revenge|suspense|car   \n",
       "\n",
       "                                            overview  ...  release_date  \\\n",
       "0  Twenty-two years after the events of Jurassic ...  ...        6/9/15   \n",
       "1  An apocalyptic story set in the furthest reach...  ...       5/13/15   \n",
       "2  Beatrice Prior must confront her inner demons ...  ...       3/18/15   \n",
       "3  Thirty years after defeating the Galactic Empi...  ...      12/15/15   \n",
       "4  Deckard Shaw seeks revenge against Dominic Tor...  ...        4/1/15   \n",
       "\n",
       "  vote_count vote_average  release_year    budget_adj   revenue_adj  \\\n",
       "0       5562          6.5          2015  1.379999e+08  1.392446e+09   \n",
       "1       6185          7.1          2015  1.379999e+08  3.481613e+08   \n",
       "2       2480          6.3          2015  1.012000e+08  2.716190e+08   \n",
       "3       5292          7.5          2015  1.839999e+08  1.902723e+09   \n",
       "4       2947          7.3          2015  1.747999e+08  1.385749e+09   \n",
       "\n",
       "         profit        lead_actor  main_genre     lead_director  \n",
       "0  1.254446e+09       Chris Pratt      Action   Colin Trevorrow  \n",
       "1  2.101614e+08         Tom Hardy      Action     George Miller  \n",
       "2  1.704191e+08  Shailene Woodley   Adventure  Robert Schwentke  \n",
       "3  1.718723e+09     Harrison Ford      Action       J.J. Abrams  \n",
       "4  1.210949e+09        Vin Diesel      Action         James Wan  \n",
       "\n",
       "[5 rows x 22 columns]"
      ]
     },
     "execution_count": 30,
     "metadata": {},
     "output_type": "execute_result"
    }
   ],
   "source": [
    "#let us view our new data ready for analysis\n",
    "df.head()"
   ]
  },
  {
   "cell_type": "markdown",
   "id": "a9ddc1df",
   "metadata": {},
   "source": [
    "# Exploratory Data Analysis"
   ]
  },
  {
   "cell_type": "markdown",
   "id": "61b36f53",
   "metadata": {},
   "source": [
    "Right here, we'll be moving into our Exploratory Data Analysis which helps us to get valuable insights into our dataset and possibly answer our outlined quetsions.\n",
    "in this process, we'll try to get the following\n",
    "\n",
    "Descriptive statistics of the data\n",
    "\n",
    "correlation between columns using charts and plots.\n",
    "and more....."
   ]
  },
  {
   "cell_type": "markdown",
   "id": "f1a5adef",
   "metadata": {},
   "source": [
    "First, lets look at getting the descriptive statistics of the data so we can better understand our dataset here"
   ]
  },
  {
   "cell_type": "code",
   "execution_count": 60,
   "id": "1092ab5b",
   "metadata": {},
   "outputs": [
    {
     "data": {
      "text/html": [
       "<div>\n",
       "<style scoped>\n",
       "    .dataframe tbody tr th:only-of-type {\n",
       "        vertical-align: middle;\n",
       "    }\n",
       "\n",
       "    .dataframe tbody tr th {\n",
       "        vertical-align: top;\n",
       "    }\n",
       "\n",
       "    .dataframe thead th {\n",
       "        text-align: right;\n",
       "    }\n",
       "</style>\n",
       "<table border=\"1\" class=\"dataframe\">\n",
       "  <thead>\n",
       "    <tr style=\"text-align: right;\">\n",
       "      <th></th>\n",
       "      <th>popularity</th>\n",
       "      <th>budget</th>\n",
       "      <th>revenue</th>\n",
       "      <th>runtime</th>\n",
       "      <th>vote_count</th>\n",
       "      <th>vote_average</th>\n",
       "      <th>release_year</th>\n",
       "      <th>budget_adj</th>\n",
       "      <th>revenue_adj</th>\n",
       "    </tr>\n",
       "  </thead>\n",
       "  <tbody>\n",
       "    <tr>\n",
       "      <th>count</th>\n",
       "      <td>10843.000000</td>\n",
       "      <td>1.084300e+04</td>\n",
       "      <td>1.084300e+04</td>\n",
       "      <td>10843.000000</td>\n",
       "      <td>10843.000000</td>\n",
       "      <td>10843.000000</td>\n",
       "      <td>10843.000000</td>\n",
       "      <td>1.084300e+04</td>\n",
       "      <td>1.084300e+04</td>\n",
       "    </tr>\n",
       "    <tr>\n",
       "      <th>mean</th>\n",
       "      <td>0.647456</td>\n",
       "      <td>1.465672e+07</td>\n",
       "      <td>3.990779e+07</td>\n",
       "      <td>102.137508</td>\n",
       "      <td>217.813705</td>\n",
       "      <td>5.973974</td>\n",
       "      <td>2001.315595</td>\n",
       "      <td>1.758827e+07</td>\n",
       "      <td>5.147332e+07</td>\n",
       "    </tr>\n",
       "    <tr>\n",
       "      <th>std</th>\n",
       "      <td>1.000986</td>\n",
       "      <td>3.093864e+07</td>\n",
       "      <td>1.171131e+08</td>\n",
       "      <td>31.293320</td>\n",
       "      <td>576.155351</td>\n",
       "      <td>0.934260</td>\n",
       "      <td>12.813298</td>\n",
       "      <td>3.433299e+07</td>\n",
       "      <td>1.447664e+08</td>\n",
       "    </tr>\n",
       "    <tr>\n",
       "      <th>min</th>\n",
       "      <td>0.000065</td>\n",
       "      <td>0.000000e+00</td>\n",
       "      <td>0.000000e+00</td>\n",
       "      <td>0.000000</td>\n",
       "      <td>10.000000</td>\n",
       "      <td>1.500000</td>\n",
       "      <td>1960.000000</td>\n",
       "      <td>0.000000e+00</td>\n",
       "      <td>0.000000e+00</td>\n",
       "    </tr>\n",
       "    <tr>\n",
       "      <th>25%</th>\n",
       "      <td>0.208253</td>\n",
       "      <td>0.000000e+00</td>\n",
       "      <td>0.000000e+00</td>\n",
       "      <td>90.000000</td>\n",
       "      <td>17.000000</td>\n",
       "      <td>5.400000</td>\n",
       "      <td>1995.000000</td>\n",
       "      <td>0.000000e+00</td>\n",
       "      <td>0.000000e+00</td>\n",
       "    </tr>\n",
       "    <tr>\n",
       "      <th>50%</th>\n",
       "      <td>0.384555</td>\n",
       "      <td>0.000000e+00</td>\n",
       "      <td>0.000000e+00</td>\n",
       "      <td>99.000000</td>\n",
       "      <td>38.000000</td>\n",
       "      <td>6.000000</td>\n",
       "      <td>2006.000000</td>\n",
       "      <td>0.000000e+00</td>\n",
       "      <td>0.000000e+00</td>\n",
       "    </tr>\n",
       "    <tr>\n",
       "      <th>75%</th>\n",
       "      <td>0.715349</td>\n",
       "      <td>1.500000e+07</td>\n",
       "      <td>2.413675e+07</td>\n",
       "      <td>111.000000</td>\n",
       "      <td>146.000000</td>\n",
       "      <td>6.600000</td>\n",
       "      <td>2011.000000</td>\n",
       "      <td>2.093530e+07</td>\n",
       "      <td>3.387655e+07</td>\n",
       "    </tr>\n",
       "    <tr>\n",
       "      <th>max</th>\n",
       "      <td>32.985763</td>\n",
       "      <td>4.250000e+08</td>\n",
       "      <td>2.781506e+09</td>\n",
       "      <td>900.000000</td>\n",
       "      <td>9767.000000</td>\n",
       "      <td>9.200000</td>\n",
       "      <td>2015.000000</td>\n",
       "      <td>4.250000e+08</td>\n",
       "      <td>2.827124e+09</td>\n",
       "    </tr>\n",
       "  </tbody>\n",
       "</table>\n",
       "</div>"
      ],
      "text/plain": [
       "         popularity        budget       revenue       runtime    vote_count  \\\n",
       "count  10843.000000  1.084300e+04  1.084300e+04  10843.000000  10843.000000   \n",
       "mean       0.647456  1.465672e+07  3.990779e+07    102.137508    217.813705   \n",
       "std        1.000986  3.093864e+07  1.171131e+08     31.293320    576.155351   \n",
       "min        0.000065  0.000000e+00  0.000000e+00      0.000000     10.000000   \n",
       "25%        0.208253  0.000000e+00  0.000000e+00     90.000000     17.000000   \n",
       "50%        0.384555  0.000000e+00  0.000000e+00     99.000000     38.000000   \n",
       "75%        0.715349  1.500000e+07  2.413675e+07    111.000000    146.000000   \n",
       "max       32.985763  4.250000e+08  2.781506e+09    900.000000   9767.000000   \n",
       "\n",
       "       vote_average  release_year    budget_adj   revenue_adj  \n",
       "count  10843.000000  10843.000000  1.084300e+04  1.084300e+04  \n",
       "mean       5.973974   2001.315595  1.758827e+07  5.147332e+07  \n",
       "std        0.934260     12.813298  3.433299e+07  1.447664e+08  \n",
       "min        1.500000   1960.000000  0.000000e+00  0.000000e+00  \n",
       "25%        5.400000   1995.000000  0.000000e+00  0.000000e+00  \n",
       "50%        6.000000   2006.000000  0.000000e+00  0.000000e+00  \n",
       "75%        6.600000   2011.000000  2.093530e+07  3.387655e+07  \n",
       "max        9.200000   2015.000000  4.250000e+08  2.827124e+09  "
      ]
     },
     "execution_count": 60,
     "metadata": {},
     "output_type": "execute_result"
    }
   ],
   "source": [
    "df.describe()"
   ]
  },
  {
   "cell_type": "markdown",
   "id": "fdbe93c4",
   "metadata": {},
   "source": [
    "### Q1: Will the popularity rating of a movie affect it's revenue?"
   ]
  },
  {
   "cell_type": "code",
   "execution_count": 37,
   "id": "7ebe80dd",
   "metadata": {},
   "outputs": [
    {
     "data": {
      "image/png": "[encoded data removed]",
      "text/plain": [
       "<Figure size 432x288 with 1 Axes>"
      ]
     },
     "metadata": {
      "needs_background": "light"
     },
     "output_type": "display_data"
    }
   ],
   "source": [
    "#lets find out if the popularity rating of a particular movie will affect the revenue it generates\n",
    "sns.regplot(x='popularity', y='revenue_adj', data=df)\n",
    "plt.title('Popularity_vs_Revenue');"
   ]
  },
  {
   "cell_type": "markdown",
   "id": "dcf39970",
   "metadata": {},
   "source": [
    "Observations from this plot shows that there a high tendency of a positive correlation between the popularity of a movie and its revenue."
   ]
  },
  {
   "cell_type": "markdown",
   "id": "bb9b92be",
   "metadata": {},
   "source": [
    "### Q2: Can the budget allocated for a movie affect its revenue?"
   ]
  },
  {
   "cell_type": "code",
   "execution_count": 38,
   "id": "448c0452",
   "metadata": {},
   "outputs": [
    {
     "data": {
      "image/png": "[encoded data removed]",
      "text/plain": [
       "<Figure size 432x288 with 1 Axes>"
      ]
     },
     "metadata": {
      "needs_background": "light"
     },
     "output_type": "display_data"
    }
   ],
   "source": [
    "sns.regplot(data=df,\n",
    "x=\"revenue_adj\",\n",
    "y=\"budget_adj\")\n",
    "plt.title('Budget_vs_Revenue');"
   ]
  },
  {
   "cell_type": "markdown",
   "id": "18486654",
   "metadata": {},
   "source": [
    "Here, we can also see a likelihood of a positive correlation between a movie budget and its revenue, meaning that a movie with a high budget could most likely generate a high revenue after it has been released."
   ]
  },
  {
   "cell_type": "markdown",
   "id": "b560d516",
   "metadata": {},
   "source": [
    "### Q3: What observation was pictured for movie Genres in our data?\n",
    "\n",
    "this should have come firts, however, i think that the number of observations cut out fro our analysis will help provide us with information on the number of movie data points in each category of the movie genres"
   ]
  },
  {
   "cell_type": "code",
   "execution_count": 33,
   "id": "c22dbc6d",
   "metadata": {},
   "outputs": [],
   "source": [
    "#Define a function to plot categorical values\n",
    "def plot_cat(var, l=12,b=5):\n",
    "    plt.figure(figsize = (l, b))\n",
    "    sns.countplot(df[var], order = df[var].value_counts().index)\n",
    "    plt.xticks(rotation=75)"
   ]
  },
  {
   "cell_type": "code",
   "execution_count": 35,
   "id": "6e119afa",
   "metadata": {
    "scrolled": true
   },
   "outputs": [
    {
     "name": "stderr",
     "output_type": "stream",
     "text": [
      "C:\\Users\\iheag\\anaconda3\\lib\\site-packages\\seaborn\\_decorators.py:36: FutureWarning: Pass the following variable as a keyword arg: x. From version 0.12, the only valid positional argument will be `data`, and passing other arguments without an explicit keyword will result in an error or misinterpretation.\n",
      "  warnings.warn(\n"
     ]
    },
    {
     "data": {
      "image/png": "[encoded data removed]",
      "text/plain": [
       "<Figure size 864x360 with 1 Axes>"
      ]
     },
     "metadata": {
      "needs_background": "light"
     },
     "output_type": "display_data"
    }
   ],
   "source": [
    "#call function to plot main_genre category\n",
    "plot_cat('main_genre')"
   ]
  },
  {
   "cell_type": "markdown",
   "id": "8e1a6370",
   "metadata": {},
   "source": [
    "from this analysis, we can see that the most movies in our dataset fall under the Drama, Comedy, and Action genres. While history, Western and foreign genres have the lowest movies."
   ]
  },
  {
   "cell_type": "markdown",
   "id": "7ccc0b8d",
   "metadata": {},
   "source": [
    "### Q4: What year was the largest number of movies released?"
   ]
  },
  {
   "cell_type": "code",
   "execution_count": 36,
   "id": "a4c7a3d3",
   "metadata": {},
   "outputs": [
    {
     "name": "stderr",
     "output_type": "stream",
     "text": [
      "C:\\Users\\iheag\\anaconda3\\lib\\site-packages\\seaborn\\_decorators.py:36: FutureWarning: Pass the following variable as a keyword arg: x. From version 0.12, the only valid positional argument will be `data`, and passing other arguments without an explicit keyword will result in an error or misinterpretation.\n",
      "  warnings.warn(\n"
     ]
    },
    {
     "data": {
      "image/png": "[encoded data removed]",
      "text/plain": [
       "<Figure size 864x360 with 1 Axes>"
      ]
     },
     "metadata": {
      "needs_background": "light"
     },
     "output_type": "display_data"
    }
   ],
   "source": [
    "#call function to plot release year of movies\n",
    "plot_cat('release_year')"
   ]
  },
  {
   "cell_type": "markdown",
   "id": "cc39f389",
   "metadata": {},
   "source": [
    "from our analysis, 2014 saw the largest number of movie release, better than any other year between 1960 and 2015."
   ]
  },
  {
   "cell_type": "markdown",
   "id": "9ab681f8",
   "metadata": {},
   "source": [
    "### Q5: What are the most popular movies?"
   ]
  },
  {
   "cell_type": "code",
   "execution_count": 59,
   "id": "894db3e7",
   "metadata": {},
   "outputs": [],
   "source": [
    "#lets find out what movies are the most popular\n",
    "top_most_popular_movies = df.sort_values(by=['popularity'], ascending=False).head(10)"
   ]
  },
  {
   "cell_type": "code",
   "execution_count": 52,
   "id": "6ccee7dd",
   "metadata": {
    "scrolled": true
   },
   "outputs": [
    {
     "data": {
      "image/png": "[encoded data removed]",
      "text/plain": [
       "<Figure size 432x288 with 1 Axes>"
      ]
     },
     "metadata": {
      "needs_background": "light"
     },
     "output_type": "display_data"
    }
   ],
   "source": [
    "sns.barplot(x='original_title', y='popularity', data= top_most_popular_movies)\n",
    "plt.xticks(rotation=90)\n",
    "plt.title('Most Popular Movies');"
   ]
  },
  {
   "cell_type": "markdown",
   "id": "3c531614",
   "metadata": {},
   "source": [
    "From this chart, we can see that the most popular movie in our dataset is Jurassic World which falls into the Action|Adventure|Science Fiction|Thriller genre, and with a popularity raating of 32, followed by Mad Max: Fury Road, and Intersteller movie."
   ]
  },
  {
   "cell_type": "markdown",
   "id": "9b49aee2",
   "metadata": {},
   "source": [
    "### Q6: What genres of movies have racked in more profits?"
   ]
  },
  {
   "cell_type": "code",
   "execution_count": 39,
   "id": "4711fb4b",
   "metadata": {},
   "outputs": [],
   "source": [
    "#lets see to get the most profitable movie genres\n",
    "genres_vs_profit = df.groupby('main_genre')['profit'].mean().sort_values(ascending=False).head(10)"
   ]
  },
  {
   "cell_type": "code",
   "execution_count": 41,
   "id": "ebdfdde7",
   "metadata": {
    "scrolled": false
   },
   "outputs": [
    {
     "data": {
      "image/png": "[encoded data removed]",
      "text/plain": [
       "<Figure size 432x432 with 1 Axes>"
      ]
     },
     "metadata": {
      "needs_background": "light"
     },
     "output_type": "display_data"
    }
   ],
   "source": [
    "#getting the most profitable movie genres\n",
    "genres_vs_profit = df.groupby('main_genre')['profit'].mean().sort_values(ascending=False).head(10)\n",
    "plt.figure(figsize=(6,6))\n",
    "plt.xticks(rotation=75)\n",
    "plt.title('Highest Profit Genres')\n",
    "sns.barplot(x=genres_vs_profit.index, y=genres_vs_profit);"
   ]
  },
  {
   "cell_type": "markdown",
   "id": "8dc45392",
   "metadata": {},
   "source": [
    "Judging from our analysis, we can be sure that movies in the 'Horror | Thriller | Adventure' genres raised more profits than any other genres."
   ]
  },
  {
   "cell_type": "markdown",
   "id": "19aaaf65",
   "metadata": {},
   "source": [
    "# Conclusions"
   ]
  },
  {
   "cell_type": "markdown",
   "id": "145a961a",
   "metadata": {},
   "source": [
    "From the analysis carried out, we can see more of a positive correlation between the popularity of a movie and how much impact it has on the revenue to be generated.\n",
    "\n",
    "Also, we were able to see that the most popular movie in our dataset falls into the Action|Adventure|Science Fiction|Thriller genre, and with a popularity raating of 32, followed by Mad Max: Fury Road, and Intersteller movie.\n",
    "\n",
    "Further analysis showed that there's a positive correlation between a movie budget and its revenue. This may imply that a movie with a high production budget may yield a high revenue after it has been released.\n",
    "\n",
    "Judging from our analysis, we can be sure that movies in the 'Horror | Thriller | Adventure' genres raised more profits than any other genres. However, we believe that more indepth analysis could be carried out to give us stronger answers to our questions."
   ]
  },
  {
   "cell_type": "markdown",
   "id": "454b228a",
   "metadata": {},
   "source": [
    "### Limitations\n",
    "During our data cleaning, we observed that the dataset had quite alot of missing values for the the budget_adj and revenue_adJ which isnt really so nice for our analysis.\n",
    "\n",
    "Also, i encountered quite some challenges using the explode function as was in the review sent, this eventually caused a lot of plots and they seemed to not be working. i had to seek ideas, hopefully this sorted. \n"
   ]
  },
  {
   "cell_type": "code",
   "execution_count": 42,
   "id": "efa77760",
   "metadata": {},
   "outputs": [
    {
     "data": {
      "text/plain": [
       "1"
      ]
     },
     "execution_count": 42,
     "metadata": {},
     "output_type": "execute_result"
    }
   ],
   "source": [
    "from subprocess import call\n",
    "call(['python', '-m', 'nbconvert', 'Investigate_a_Dataset.ipynb'])"
   ]
  },
  {
   "cell_type": "code",
   "execution_count": null,
   "id": "7fdf2e0f",
   "metadata": {},
   "outputs": [],
   "source": []
  }
 ],
 "metadata": {
  "kernelspec": {
   "display_name": "Python 3 (ipykernel)",
   "language": "python",
   "name": "python3"
  },
  "language_info": {
   "codemirror_mode": {
    "name": "ipython",
    "version": 3
   },
   "file_extension": ".py",
   "mimetype": "text/x-python",
   "name": "python",
   "nbconvert_exporter": "python",
   "pygments_lexer": "ipython3",
   "version": "3.9.12"
  }
 },
 "nbformat": 4,
 "nbformat_minor": 5
}
